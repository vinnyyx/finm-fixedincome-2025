{
 "cells": [
  {
   "cell_type": "markdown",
   "id": "bac929b8",
   "metadata": {},
   "source": [
    "# Homework 3\n",
    "\n",
    "## FINM 37400 - 2025\n",
    "\n",
    "### UChicago Financial Mathematics\n",
    "\n",
    "* Mark Hendricks\n",
    "* hendricks@uchicago.edu"
   ]
  },
  {
   "cell_type": "markdown",
   "id": "7b03c2b8",
   "metadata": {},
   "source": [
    "***"
   ]
  },
  {
   "cell_type": "markdown",
   "id": "42647704",
   "metadata": {},
   "source": [
    "# 1 HBS Case: Fixed-Income Arbitrage in a Financial Crisis (C): Spread and Swap Spread in November 2008"
   ]
  },
  {
   "cell_type": "markdown",
   "id": "20d04ae8",
   "metadata": {},
   "source": [
    "## Simplification of the setup\n",
    "\n",
    "The date is Nov 4, 2008.\n",
    "\n",
    "**Treasury bond**\n",
    "* Suppose the Treasury bond matures exactly 30 years later, on Nov 4, 2038 rather than May 15, 2008. \n",
    "* The YTM of this freshly issued treasury is 4.193\\% with a semiannual coupon of 4.50\\%, same as is given in the case. (So we're just changing the maturity date to simplify things, but keeping the market data.)\n",
    "\n",
    "**Swap**\n",
    "* The fixed leg of the swap pays semiannually, with swap rate of 4.2560\\%, as given in the case.\n",
    "* The floating leg of the swap also pays semiannually--not quarterly--such that the payment dates are identical on both legs. Thus, it also resets the floating rate semiannually, not quarterly.\n",
    "* The floating rate of the swap equals the repo rate used in the trade. Thus, these two rates cancel in the financing of the trade. (No need to consider the TED spread.) "
   ]
  },
  {
   "cell_type": "markdown",
   "id": "b4dc60d2",
   "metadata": {},
   "source": [
    "## Case Clarifications\n",
    "\n",
    "\n",
    "### Duration Quotes\n",
    "Bond\n",
    "* Quote: Val01 of bond is .1746 per bp per $1 face value\n",
    "* Class terminology: Modified dollar duration is .1746 per $100 face value\n",
    "\n",
    "Swap\n",
    "* Quote: DV01 of swap is 1.7mm per 1 billion notional.\n",
    "* Class terminology: Modified dollar duration is 100(1.7/1000) per $100 face value.\n",
    "\n",
    "Thus, modified dollar duration for each per 100 face is\n",
    "* Bond = .1746\n",
    "* Swap = .1700\n",
    "\n",
    "### Hedge Ratio\n",
    "\n",
    "In figuring out the hedge ratio, they set up the hedge per dollar of face value. \n",
    "\n",
    "    *so Mills would need to buy face amount $0.97 billion*\n",
    "    \n",
    "No, this hedge should be for market value, not face amount given that the case is already using **modified** duration which includes the dirty price.\n",
    "    \n",
    "\n",
    "### Maturity Mismatch\n",
    "\n",
    "The maturity of the bond is August 2038, whereas the date is Nov 2008. Thus, the bond has less than 30 years to maturity, yet he is entering a 30-year swap. \n",
    "\n",
    "For simplicity, we imagine the bond is issued in Nov 2008 and thus has maturity of 30 years at the time of the case.\n",
    "\n",
    "However, then the case quotes for the Nov price and YTM of the bond no longer are accurate. Use one and adjust the other. Namely, we could...\n",
    "    * use the Nov 4 **YTM** quoted in the case, and re-adjust the the bond.\n",
    "    * use the Nov 4 **price** quoted in the case, and re-adjust the YTM.\n",
    "    \n",
    "We do the former, keep the quoted YTM, assume time-to-maturity of `30`, and recalculate the Nov 2008 price. (It is close to the quoted price in the case.)"
   ]
  },
  {
   "cell_type": "markdown",
   "id": "88f4ddfa",
   "metadata": {},
   "source": [
    "***"
   ]
  },
  {
   "cell_type": "markdown",
   "id": "2b81df67",
   "metadata": {},
   "source": [
    "## 1.0.\n",
    "\n",
    "Report the price of the 30-year T-bond in Nov 2008. Given the discussion about `Maturity Mismatch`, we are repricing the bond, so it will not exactly equal `105` as reported in the case."
   ]
  },
  {
   "cell_type": "markdown",
   "id": "48cc1866",
   "metadata": {},
   "source": [
    "## 1.1\n",
    "\n",
    "List the projected cashflows on May 4, 2009, exactly six months into the trade, on the first coupon and swap date.\n",
    "\n",
    "#### Clarification\n",
    "List these cashflows for face value of $1B, not the $0.97B noted in the case. As mentioned in \"Case Clarifications\", we will not use this number. Rather, we calculate our own hedge ratio in a problem below."
   ]
  },
  {
   "cell_type": "markdown",
   "id": "2076b2c9",
   "metadata": {},
   "source": [
    "## 1.2\n",
    "\n",
    "What is the duration of...\n",
    "* the T-bond\n",
    "* the swap\n",
    "\n",
    "Remember that...\n",
    "* the swap can be decomposed into a fixed-rate bond and a floating-rate note\n",
    "* a floating-rate note has duration equal to the time until the next reset. Thus, at initialization, it has duration equal to 0.5 years.\n",
    "\n",
    "Is the duration for the \"paying-fixed\" swap positive or negative? Is it bigger or smaller in magnitude than the T-bond?\n",
    "\n",
    "For this problem, calculate the Macauley duration and the dollar (Macauley) duration."
   ]
  },
  {
   "cell_type": "markdown",
   "id": "2b944cf6",
   "metadata": {},
   "source": [
    "## 1.3\n",
    "\n",
    "What hedge ratio should be used to balance the notional size of the Treasury bond with the notional size of the swap, such that it is a duration-neutral position?\n",
    "\n",
    "Specifically, if the trader enters the swap paying fixed on \\$500 million notional, how large of a position should they take in the Treasury bond?"
   ]
  },
  {
   "cell_type": "markdown",
   "id": "95877cb8",
   "metadata": {},
   "source": [
    "## 1.4\n",
    "\n",
    "Suppose it is May 4, 2009, exactly six months after putting the trade on.\n",
    "\n",
    "The spread is at -28 bps due to...\n",
    "* The YTM on a new 30-year bond has risen to 4.36\\%\n",
    "* The swap rate on a new 30-year swap has dropped to 4.08\\%\n",
    "\n",
    "Explain conceptually how this movement impacts the components of the trade."
   ]
  },
  {
   "cell_type": "markdown",
   "id": "c8bf1f3a",
   "metadata": {},
   "source": [
    "## 1.5\n",
    "\n",
    "Calculate the value of the position on May 4, 2009, immediately after the first coupon and swap payments and swap reset. \n",
    "\n",
    "* Calculate the revised price of the Treasury bond by assuming you can apply the (May 4) 30-year YTM as a discount rate to the 29.5 year bond. (We are just using this for a rough approximation. You know that good pricing would require a discount curve, but let's not get bogged down with that here.)\n",
    "\n",
    "\n",
    "* Calculate the value of the swap by decomposing it into a fixed-rate bond and a floating-rate bond.\n",
    "    * The 29.5 year fixed-rate leg is priced using the (May 4) 30-year swap rate as a discount rate.\n",
    "    * The floating-rate leg is priced at par given that floating-rate notes are par immediately after resets.\n",
    "    \n",
    "**Note**\n",
    "\n",
    "You are being asked to calculate these valuations using the exact formula between price, cashflows, and YTM discount rate. We are not simply approximating with duration, as we already know the position was set up with zero dollar duration.\n",
    "\n",
    "From the Discussion notebook, we have this formula expressing a bond's price as a function of the coupon, $c$, and the YTM, $y_j$.\n",
    "\n",
    "$\\begin{align*}\n",
    "P_j(t,T,c) = \\sum_{i=1}^{n-1}\\frac{100\\left(\\frac{c}{2}\\right)}{\\left(1+\\frac{y_j}{2}\\right)^{2(T_i-t)}} + \\frac{100\\left(1+\\frac{c}{2}\\right)}{\\left(1+\\frac{y_j}{2}\\right)^{2(T-t)}}\n",
    "\\end{align*}\n",
    "$"
   ]
  },
  {
   "cell_type": "markdown",
   "id": "7fba6574",
   "metadata": {},
   "source": [
    "## 1.6\n",
    "\n",
    "Accounting for the change in value of the positions, as well as the 6-month cashflows paid on May 4, \n",
    "* what is the net profit and loss (pnl) of the position?\n",
    "* what is the return on the equity capital, considering that there was a 2\\% haircut (equity contribution) on the size of the initial treasury bond position."
   ]
  },
  {
   "cell_type": "markdown",
   "id": "948c9706",
   "metadata": {},
   "source": [
    "***"
   ]
  },
  {
   "cell_type": "markdown",
   "id": "633edb93",
   "metadata": {},
   "source": [
    "# 2. Factor Duration"
   ]
  },
  {
   "cell_type": "markdown",
   "id": "0f6e4aa6",
   "metadata": {},
   "source": [
    "### Data\n",
    "\n",
    "This problem uses data from,\n",
    "* `/data/yields.xlsx`\n",
    "* `/data/treasury_ts_duration_2024-10-31.xlsx`"
   ]
  },
  {
   "cell_type": "markdown",
   "id": "6127c1e5",
   "metadata": {},
   "source": [
    "#### Load Yields"
   ]
  },
  {
   "cell_type": "code",
   "execution_count": 21,
   "id": "69fbc7c2",
   "metadata": {},
   "outputs": [],
   "source": [
    "filepath = '../data/yields.xlsx'\n",
    "yields = pd.read_excel(filepath, sheet_name='yields')\n",
    "yields.set_index('caldt',inplace=True)"
   ]
  },
  {
   "cell_type": "markdown",
   "id": "de979e9a",
   "metadata": {},
   "source": [
    "#### Load Prices and Durations of Two Treasuries"
   ]
  },
  {
   "cell_type": "code",
   "execution_count": 22,
   "id": "18b846dd",
   "metadata": {},
   "outputs": [
    {
     "data": {
      "text/html": [
       "<div>\n",
       "<style scoped>\n",
       "    .dataframe tbody tr th:only-of-type {\n",
       "        vertical-align: middle;\n",
       "    }\n",
       "\n",
       "    .dataframe tbody tr th {\n",
       "        vertical-align: top;\n",
       "    }\n",
       "\n",
       "    .dataframe thead th {\n",
       "        text-align: right;\n",
       "    }\n",
       "</style>\n",
       "<table border=\"1\" class=\"dataframe\">\n",
       "  <thead>\n",
       "    <tr style=\"text-align: right;\">\n",
       "      <th></th>\n",
       "      <th>type</th>\n",
       "      <th>issue date</th>\n",
       "      <th>maturity date</th>\n",
       "      <th>cpn rate</th>\n",
       "    </tr>\n",
       "    <tr>\n",
       "      <th>KYTREASNO</th>\n",
       "      <th></th>\n",
       "      <th></th>\n",
       "      <th></th>\n",
       "      <th></th>\n",
       "    </tr>\n",
       "  </thead>\n",
       "  <tbody>\n",
       "    <tr>\n",
       "      <th>207391</th>\n",
       "      <td>note</td>\n",
       "      <td>2019-08-15</td>\n",
       "      <td>2029-08-15</td>\n",
       "      <td>1.625</td>\n",
       "    </tr>\n",
       "    <tr>\n",
       "      <th>207392</th>\n",
       "      <td>bond</td>\n",
       "      <td>2019-08-15</td>\n",
       "      <td>2049-08-15</td>\n",
       "      <td>2.250</td>\n",
       "    </tr>\n",
       "  </tbody>\n",
       "</table>\n",
       "</div>"
      ],
      "text/plain": [
       "           type issue date maturity date  cpn rate\n",
       "KYTREASNO                                         \n",
       "207391     note 2019-08-15    2029-08-15     1.625\n",
       "207392     bond 2019-08-15    2049-08-15     2.250"
      ]
     },
     "execution_count": 22,
     "metadata": {},
     "output_type": "execute_result"
    }
   ],
   "source": [
    "QUOTE_DATE = '2024-10-31'\n",
    "filepath = f'../data/treasury_ts_duration_{QUOTE_DATE}.xlsx'\n",
    "\n",
    "data = pd.read_excel(filepath,sheet_name='database')\n",
    "data_info =  data.drop_duplicates(subset='KYTREASNO', keep='first').set_index('KYTREASNO')\n",
    "data_info[['type','issue date','maturity date','cpn rate']]"
   ]
  },
  {
   "cell_type": "markdown",
   "id": "28e8f46c",
   "metadata": {},
   "source": [
    "You will largely focus on the sheets which give the timeseries of prices and durations for each of the two securities, as shown in the following code."
   ]
  },
  {
   "cell_type": "code",
   "execution_count": 23,
   "id": "8724ba0a",
   "metadata": {},
   "outputs": [],
   "source": [
    "SHEET_PRICE = 'price'\n",
    "SHEET_DURATION = 'duration'\n",
    "INDEX_NAME = 'quote date'\n",
    "\n",
    "price = pd.read_excel(filepath,sheet_name=SHEET_PRICE).set_index(INDEX_NAME)\n",
    "duration = pd.read_excel(filepath,sheet_name=SHEET_DURATION).set_index(INDEX_NAME)"
   ]
  },
  {
   "cell_type": "markdown",
   "id": "08fd667b",
   "metadata": {},
   "source": [
    "### 2.1.\n",
    "\n",
    "Construct the following yield-curve factors from the `yields` data set:\n",
    "\n",
    "$\\begin{align}\n",
    "x^{\\text{level}}_t =& \\frac{1}{N_{\\text{yields}}}\\sum_{i=1}^{N_{\\text{yields}}} y^{(i)}_t\\\\\n",
    "x^{\\text{slope}}_t =& y^{(30)}_t - y^{(1)}_t\\\\\n",
    "x^{\\text{curvature}}_t =& -y^{(1)}_t + 2 y^{(10)}_t - y^{(30)}_t\n",
    "\\end{align}$"
   ]
  },
  {
   "cell_type": "markdown",
   "id": "42d3a537",
   "metadata": {},
   "source": [
    "### 2.2\n",
    "\n",
    "Get the bond prices and durations for the two bonds in the data set referenced above.\n",
    "\n",
    "#### Align the data\n",
    "\n",
    "Align the bond pricing data with the yield factor data, so that you have data for both in the intersection of their dates.\n",
    "\n",
    "\n",
    "#### Estimate the regression\n",
    "\n",
    "Estimate the regression in the form of day-over-day differences for both bond prices and factors. That is, we are using regression to approximate the factor duration equation,\n",
    "\n",
    "$\\begin{align}\n",
    "\\frac{dP}{P} = \\alpha + \\beta_L dx_{\\text{level}} + \\beta_S dx_{\\text{slope}} + \\beta_C dx_{\\text{curvature}} + \\epsilon\n",
    "\\end{align}$\n",
    "\n",
    "Report the betas for each of these factors, for each of the bond prices."
   ]
  },
  {
   "cell_type": "markdown",
   "id": "4776f6e5",
   "metadata": {},
   "source": [
    "### 2.3.\n",
    "\n",
    "Compare the \"level\" factor beta for each of the two treasuries with the average  duration for each bond as reported in the data set.\n",
    "\n",
    "* How closely does the average duration for a bond compare to its \"level\" beta?\n",
    "* What do you conclude about the usefulness of mathematical duration vs regression sensitivities?"
   ]
  },
  {
   "cell_type": "markdown",
   "id": "2df02787",
   "metadata": {},
   "source": [
    "### 2.4.\n",
    "\n",
    "In the duration-hedged trade of `Homework 2, Section 2`, was the that trade was long or short this slope factor? \n",
    "\n",
    "Do you think the slope factor exposure had a large impact on the trade?\n",
    "\n",
    "No new analysis needed, just draw a conclusion from the estimates above along with the trade construction in `HW 2, Sec 2`."
   ]
  },
  {
   "cell_type": "markdown",
   "id": "fcabcd0c",
   "metadata": {},
   "source": [
    "***"
   ]
  },
  {
   "cell_type": "markdown",
   "id": "9168eed2",
   "metadata": {},
   "source": [
    "# 3 Calculating Duration Via Individual Cashflows\n",
    "\n",
    "## *Optional, not submitted*"
   ]
  },
  {
   "cell_type": "markdown",
   "id": "432e95d6",
   "metadata": {},
   "source": [
    "Use the data file `../data/treasury_quotes_2024-10-31.xlsx`.\n",
    "\n",
    "### 3.1 \n",
    "Set up the cashflow matrix. \n",
    "\n",
    "### 3.2\n",
    "Extract the Nelson-Siegel spot discount curve, as you did in `Homework 1`.\n",
    "\n",
    "### 3.3\n",
    "For each treasury issue, calculate the duration as the weighted average of the (discounted!) cashflow maturity.\n",
    "\n",
    "Report the summary statistics of the durations. (Use `.describe()` from pandas.)\n",
    "\n",
    "### 3.4\n",
    "How close are your duration estimates to the imputed durations given in the data source?\n",
    "\n",
    "Report the summary statistics of the imputed durations minus your calculated durations from above.\n",
    "\n",
    "### 3.5\n",
    "Continue using your assumed discount rates of `4.5`\\% to calculate the convexity of each issue.\n",
    "\n",
    "Report the summary statistics of these convexity calculations."
   ]
  },
  {
   "cell_type": "markdown",
   "id": "d28e865d",
   "metadata": {},
   "source": [
    "***"
   ]
  }
 ],
 "metadata": {
  "hide_input": false,
  "kernelspec": {
   "display_name": "Python 3 (ipykernel)",
   "language": "python",
   "name": "python3"
  },
  "language_info": {
   "codemirror_mode": {
    "name": "ipython",
    "version": 3
   },
   "file_extension": ".py",
   "mimetype": "text/x-python",
   "name": "python",
   "nbconvert_exporter": "python",
   "pygments_lexer": "ipython3",
   "version": "3.9.6"
  }
 },
 "nbformat": 4,
 "nbformat_minor": 5
}
