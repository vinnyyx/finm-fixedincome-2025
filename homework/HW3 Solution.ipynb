{
 "cells": [
  {
   "cell_type": "markdown",
   "id": "bac929b8",
   "metadata": {},
   "source": [
    "# Homework 3\n",
    "\n",
    "## FINM 37400 - 2025\n",
    "\n",
    "### UChicago Financial Mathematics\n",
    "\n",
    "* Mark Hendricks\n",
    "* hendricks@uchicago.edu"
   ]
  },
  {
   "cell_type": "code",
   "execution_count": 79,
   "id": "2d1fd2c4",
   "metadata": {},
   "outputs": [],
   "source": [
    "import numpy as np\n",
    "import pandas as pd\n",
    "import matplotlib.pyplot as plt\n",
    "import seaborn as sns\n",
    "\n",
    "from datetime import datetime\n",
    "from dateutil.relativedelta import relativedelta\n",
    "import statsmodels.api as sm\n",
    "from scipy.optimize import minimize"
   ]
  },
  {
   "cell_type": "markdown",
   "id": "7b03c2b8",
   "metadata": {},
   "source": [
    "***"
   ]
  },
  {
   "cell_type": "markdown",
   "id": "42647704",
   "metadata": {},
   "source": [
    "# 1 HBS Case: Fixed-Income Arbitrage in a Financial Crisis (C): Spread and Swap Spread in November 2008"
   ]
  },
  {
   "cell_type": "markdown",
   "id": "20d04ae8",
   "metadata": {},
   "source": [
    "## Simplification of the setup\n",
    "\n",
    "The date is Nov 4, 2008.\n",
    "\n",
    "**Treasury bond**\n",
    "* Suppose the Treasury bond matures exactly 30 years later, on Nov 4, 2038 rather than May 15, 2008. \n",
    "* The YTM of this freshly issued treasury is 4.193\\% with a semiannual coupon of 4.50\\%, same as is given in the case. (So we're just changing the maturity date to simplify things, but keeping the market data.)\n",
    "\n",
    "**Swap**\n",
    "* The fixed leg of the swap pays semiannually, with swap rate of 4.2560\\%, as given in the case.\n",
    "* The floating leg of the swap also pays semiannually--not quarterly--such that the payment dates are identical on both legs. Thus, it also resets the floating rate semiannually, not quarterly.\n",
    "* The floating rate of the swap equals the repo rate used in the trade. Thus, these two rates cancel in the financing of the trade. (No need to consider the TED spread.) "
   ]
  },
  {
   "cell_type": "markdown",
   "id": "b4dc60d2",
   "metadata": {},
   "source": [
    "## Case Clarifications\n",
    "\n",
    "\n",
    "### Duration Quotes\n",
    "Bond\n",
    "* Quote: Val01 of bond is .1746 per bp per $1 face value\n",
    "* Class terminology: Modified dollar duration is .1746 per $100 face value\n",
    "\n",
    "Swap\n",
    "* Quote: DV01 of swap is 1.7mm per 1 billion notional.\n",
    "* Class terminology: Modified dollar duration is 100(1.7/1000) per $100 face value.\n",
    "\n",
    "Thus, modified dollar duration for each per 100 face is\n",
    "* Bond = .1746\n",
    "* Swap = .1700\n",
    "\n",
    "### Hedge Ratio\n",
    "\n",
    "In figuring out the hedge ratio, they set up the hedge per dollar of face value. \n",
    "\n",
    "    *so Mills would need to buy face amount $0.97 billion*\n",
    "    \n",
    "No, this hedge should be for market value, not face amount given that the case is already using **modified** duration which includes the dirty price.\n",
    "    \n",
    "\n",
    "### Maturity Mismatch\n",
    "\n",
    "The maturity of the bond is August 2038, whereas the date is Nov 2008. Thus, the bond has less than 30 years to maturity, yet he is entering a 30-year swap. \n",
    "\n",
    "For simplicity, we imagine the bond is issued in Nov 2008 and thus has maturity of 30 years at the time of the case.\n",
    "\n",
    "However, then the case quotes for the Nov price and YTM of the bond no longer are accurate. Use one and adjust the other. Namely, we could...\n",
    "    * use the Nov 4 **YTM** quoted in the case, and re-adjust the the bond.\n",
    "    * use the Nov 4 **price** quoted in the case, and re-adjust the YTM.\n",
    "    \n",
    "We do the former, keep the quoted YTM, assume time-to-maturity of `30`, and recalculate the Nov 2008 price. (It is close to the quoted price in the case.)"
   ]
  },
  {
   "cell_type": "markdown",
   "id": "88f4ddfa",
   "metadata": {},
   "source": [
    "***"
   ]
  },
  {
   "cell_type": "markdown",
   "id": "2b81df67",
   "metadata": {},
   "source": [
    "## 1.0.\n",
    "\n",
    "Report the price of the 30-year T-bond in Nov 2008. Given the discussion about `Maturity Mismatch`, we are repricing the bond, so it will not exactly equal `105` as reported in the case."
   ]
  },
  {
   "cell_type": "code",
   "execution_count": 80,
   "id": "d21c1f2e",
   "metadata": {},
   "outputs": [],
   "source": [
    "ytm = 4.193\n",
    "cpn = 4.5\n",
    "yr = 30\n",
    "\n",
    "def bond_price(ytm, cpn, yr):\n",
    "    res_price = 0\n",
    "    yield_denom = 1 + ytm / 200\n",
    "    for i in range(1, 1 + yr * 2):\n",
    "        cpn_val = cpn / (2 * (yield_denom ** i))\n",
    "        res_price += cpn_val\n",
    "\n",
    "    res_price += 100 / (yield_denom ** 60)\n",
    "\n",
    "    return res_price\n",
    "\n",
    "\n"
   ]
  },
  {
   "cell_type": "code",
   "execution_count": 81,
   "id": "ce5047e2",
   "metadata": {},
   "outputs": [
    {
     "name": "stdout",
     "output_type": "stream",
     "text": [
      "The price is 105.21.\n"
     ]
    }
   ],
   "source": [
    "p1 = bond_price(ytm, cpn, yr)\n",
    "\n",
    "print(f'The price is {round(p1, 2)}.')"
   ]
  },
  {
   "cell_type": "markdown",
   "id": "48cc1866",
   "metadata": {},
   "source": [
    "## 1.1\n",
    "\n",
    "List the projected cashflows on May 4, 2009, exactly six months into the trade, on the first coupon and swap date.\n",
    "\n",
    "#### Clarification\n",
    "List these cashflows for face value of $1B, not the $0.97B noted in the case. As mentioned in \"Case Clarifications\", we will not use this number. Rather, we calculate our own hedge ratio in a problem below."
   ]
  },
  {
   "cell_type": "code",
   "execution_count": 82,
   "id": "acb7d2ff",
   "metadata": {},
   "outputs": [
    {
     "name": "stdout",
     "output_type": "stream",
     "text": [
      "Every 6 months, the bond pays 22500000.0 and you pay 21280000.0 for the swap.\n"
     ]
    }
   ],
   "source": [
    "bond_fv = 1_000_000_000\n",
    "bond_cf = bond_fv * cpn / 200\n",
    "swap_rate = 4.256\n",
    "\n",
    "# per 100 figures\n",
    "bond_mod_ddur = 0.1746\n",
    "swap_mod_ddur = 0.17\n",
    "\n",
    "\n",
    "swap_fv = bond_fv\n",
    "\n",
    "# repo and floating rate cancel out\n",
    "\n",
    "swap_cf  = swap_fv * swap_rate / 200\n",
    "\n",
    "print(f'Every 6 months, the bond pays {bond_cf} and you pay {swap_cf} for the swap.')"
   ]
  },
  {
   "cell_type": "markdown",
   "id": "2076b2c9",
   "metadata": {},
   "source": [
    "## 1.2\n",
    "\n",
    "What is the duration of...\n",
    "* the T-bond\n",
    "* the swap\n",
    "\n",
    "Remember that...\n",
    "* the swap can be decomposed into a fixed-rate bond and a floating-rate note\n",
    "* a floating-rate note has duration equal to the time until the next reset. Thus, at initialization, it has duration equal to 0.5 years.\n",
    "\n",
    "Is the duration for the \"paying-fixed\" swap positive or negative? Is it bigger or smaller in magnitude than the T-bond?\n",
    "\n",
    "For this problem, calculate the Macauley duration and the dollar (Macauley) duration."
   ]
  },
  {
   "cell_type": "code",
   "execution_count": 83,
   "id": "384b3606",
   "metadata": {},
   "outputs": [],
   "source": [
    "def mc_duration(ytm, cpn, years_left, per_y=2, fixed=True, face=100):\n",
    "    \"\"\"\n",
    "    Calculate the Macaulay Duration and Dollar Duration of a bond.\n",
    "\n",
    "    Parameters:\n",
    "    ytm (float): Yield to maturity (as a decimal).\n",
    "    cpn (float): Annual coupon rate (as a decimal).\n",
    "    years_left (int/float): Years remaining until maturity.\n",
    "    per_y (int): Payments per year (default is 2 for semi-annual).\n",
    "    fixed (bool): Whether it's a fixed coupon bond (default=True).\n",
    "    face (float): Face value of the bond (default=100).\n",
    "\n",
    "    Returns:\n",
    "    tuple: (Macaulay Duration, Dollar Duration)\n",
    "    \"\"\"\n",
    "    n = int(years_left * per_y)\n",
    "    \n",
    "    ytm_per_period = ytm / per_y / 100\n",
    "    cpn_payment = (cpn * face) / per_y / 100\n",
    "\n",
    "    time_periods = np.arange(1, n + 1)\n",
    "    discounted_cf = cpn_payment / (1 + ytm_per_period) ** time_periods\n",
    "    discounted_face = face / (1 + ytm_per_period) ** n\n",
    "    \n",
    "    # Bond price\n",
    "    price = np.sum(discounted_cf) + discounted_face\n",
    "    \n",
    "    # Compute Macaulay Duration\n",
    "    weighted_times = time_periods * discounted_cf\n",
    "    mac_duration = (np.sum(weighted_times) + (n * discounted_face)) / (price * per_y)\n",
    "    \n",
    "    # Compute Modified Duration\n",
    "    mod_duration = mac_duration / (1 + ytm_per_period)\n",
    "    \n",
    "    # Compute Dollar Duration\n",
    "    dollar_duration = mod_duration * (price / 100) * face\n",
    "    \n",
    "    return mac_duration, dollar_duration"
   ]
  },
  {
   "cell_type": "code",
   "execution_count": 84,
   "id": "3fb933a8",
   "metadata": {},
   "outputs": [
    {
     "name": "stdout",
     "output_type": "stream",
     "text": [
      "17.083633069693104\n",
      "1760.5158840204253\n"
     ]
    }
   ],
   "source": [
    "# t-bond\n",
    "\n",
    "bond_mac, bond_ddur = mc_duration(ytm, cpn, 30, face=100)\n",
    "\n",
    "print(bond_mac)\n",
    "print(bond_ddur)"
   ]
  },
  {
   "cell_type": "code",
   "execution_count": 85,
   "id": "bafb6e32",
   "metadata": {},
   "outputs": [
    {
     "name": "stdout",
     "output_type": "stream",
     "text": [
      "17.283179937959357\n",
      "1710.938179603965\n"
     ]
    }
   ],
   "source": [
    "swap_mac, swap_ddur = mc_duration(ytm, swap_rate, 30, face=100)\n",
    "\n",
    "print(swap_mac)\n",
    "print(swap_ddur)"
   ]
  },
  {
   "cell_type": "markdown",
   "id": "44de448f",
   "metadata": {},
   "source": [
    "# 1.2 Solution\n",
    "\n",
    "The duration of the paying fixed swap is negative if you are paying fixed. It is smaller than the T-bond because of the SOFR adjustment. "
   ]
  },
  {
   "cell_type": "markdown",
   "id": "2b944cf6",
   "metadata": {},
   "source": [
    "## 1.3\n",
    "\n",
    "What hedge ratio should be used to balance the notional size of the Treasury bond with the notional size of the swap, such that it is a duration-neutral position?\n",
    "\n",
    "Specifically, if the trader enters the swap paying fixed on \\$500 million notional, how large of a position should they take in the Treasury bond?"
   ]
  },
  {
   "cell_type": "code",
   "execution_count": 86,
   "id": "2623787a",
   "metadata": {},
   "outputs": [
    {
     "name": "stdout",
     "output_type": "stream",
     "text": [
      "485915551.99399406\n"
     ]
    }
   ],
   "source": [
    "swap_pos_fv = 500_000_000\n",
    "\n",
    "bond_pos_fv = swap_pos_fv * (swap_ddur - 0.5) / (bond_ddur - 0.5) # 0.5 is for floating and repo respectively\n",
    "\n",
    "print(bond_pos_fv)"
   ]
  },
  {
   "cell_type": "markdown",
   "id": "95877cb8",
   "metadata": {},
   "source": [
    "## 1.4\n",
    "\n",
    "Suppose it is May 4, 2009, exactly six months after putting the trade on.\n",
    "\n",
    "The spread is at -28 bps due to...\n",
    "* The YTM on a new 30-year bond has risen to 4.36\\%\n",
    "* The swap rate on a new 30-year swap has dropped to 4.08\\%\n",
    "\n",
    "Explain conceptually how this movement impacts the components of the trade."
   ]
  },
  {
   "cell_type": "markdown",
   "id": "9da202ed",
   "metadata": {},
   "source": [
    "# 1.4 solution\n",
    "\n",
    "Leg 1: T-bond\n",
    "Position loses value here because the original ytm was 4.193%. A rise to 4.36% would lose money.\n",
    "\n",
    "Leg2: Swap\n",
    "Swap paying 4.256% would lose value because you are now paying more than market rate. \n",
    "\n",
    "Both positions lose money when the spread goes to -28bps."
   ]
  },
  {
   "cell_type": "markdown",
   "id": "c8bf1f3a",
   "metadata": {},
   "source": [
    "## 1.5\n",
    "\n",
    "Calculate the value of the position on May 4, 2009, immediately after the first coupon and swap payments and swap reset. \n",
    "\n",
    "* Calculate the revised price of the Treasury bond by assuming you can apply the (May 4) 30-year YTM as a discount rate to the 29.5 year bond. (We are just using this for a rough approximation. You know that good pricing would require a discount curve, but let's not get bogged down with that here.)\n",
    "\n",
    "\n",
    "* Calculate the value of the swap by decomposing it into a fixed-rate bond and a floating-rate bond.\n",
    "    * The 29.5 year fixed-rate leg is priced using the (May 4) 30-year swap rate as a discount rate.\n",
    "    * The floating-rate leg is priced at par given that floating-rate notes are par immediately after resets.\n",
    "    \n",
    "**Note**\n",
    "\n",
    "You are being asked to calculate these valuations using the exact formula between price, cashflows, and YTM discount rate. We are not simply approximating with duration, as we already know the position was set up with zero dollar duration.\n",
    "\n",
    "From the Discussion notebook, we have this formula expressing a bond's price as a function of the coupon, $c$, and the YTM, $y_j$.\n",
    "\n",
    "$\\begin{align*}\n",
    "P_j(t,T,c) = \\sum_{i=1}^{n-1}\\frac{100\\left(\\frac{c}{2}\\right)}{\\left(1+\\frac{y_j}{2}\\right)^{2(T_i-t)}} + \\frac{100\\left(1+\\frac{c}{2}\\right)}{\\left(1+\\frac{y_j}{2}\\right)^{2(T-t)}}\n",
    "\\end{align*}\n",
    "$"
   ]
  },
  {
   "cell_type": "code",
   "execution_count": 87,
   "id": "691ba7d3",
   "metadata": {},
   "outputs": [],
   "source": [
    "def bond_price(cpn, ytm, years, years_past, compounding=2, FV=100):\n",
    "    price = 0\n",
    "\n",
    "    for i in np.arange(years_past + 1 / compounding, years + 1 / compounding, 1 / compounding):\n",
    "        z = 1 / (1 + ytm/compounding) ** (compounding * (i - years_past))\n",
    "        val = cpn * FV * z / compounding\n",
    "        price += val\n",
    "\n",
    "    price += (FV) / ((1 + ytm/compounding) ** (compounding * (years - years_past)))\n",
    "\n",
    "    return float(price)"
   ]
  },
  {
   "cell_type": "code",
   "execution_count": 88,
   "id": "e006bfca",
   "metadata": {},
   "outputs": [
    {
     "name": "stdout",
     "output_type": "stream",
     "text": [
      "4.193\n",
      "102.31140068727244\n"
     ]
    }
   ],
   "source": [
    "print(ytm)\n",
    "\n",
    "bond_price_new = bond_price(cpn/100, 4.36/100, 30, 0.5)\n",
    "\n",
    "print(bond_price_new)"
   ]
  },
  {
   "cell_type": "markdown",
   "id": "7fba6574",
   "metadata": {},
   "source": [
    "## 1.6\n",
    "\n",
    "Accounting for the change in value of the positions, as well as the 6-month cashflows paid on May 4, \n",
    "* what is the net profit and loss (pnl) of the position?\n",
    "* what is the return on the equity capital, considering that there was a 2\\% haircut (equity contribution) on the size of the initial treasury bond position."
   ]
  },
  {
   "cell_type": "code",
   "execution_count": null,
   "id": "106de516",
   "metadata": {},
   "outputs": [],
   "source": []
  },
  {
   "cell_type": "markdown",
   "id": "948c9706",
   "metadata": {},
   "source": [
    "***"
   ]
  },
  {
   "cell_type": "markdown",
   "id": "633edb93",
   "metadata": {},
   "source": [
    "# 2. Factor Duration"
   ]
  },
  {
   "cell_type": "code",
   "execution_count": 89,
   "id": "2e9336a6",
   "metadata": {},
   "outputs": [],
   "source": [
    "def regression_stats(df1, y_df, ann=1, constant=True):\n",
    "    '''\n",
    "        df1: x vars\n",
    "        y_df: y vars\n",
    "        ann: annualization constant (how many periods in a year)\n",
    "    '''\n",
    "    results = []  # To store results for each y variable\n",
    "\n",
    "    for y_col in y_df.columns:\n",
    "        y = y_df[y_col]\n",
    "\n",
    "        # Add constant if needed\n",
    "        if constant:\n",
    "            df1_with_const = sm.add_constant(df1)\n",
    "            column_names = ['Intercept'] + list(df1.columns)\n",
    "        else:\n",
    "            df1_with_const = df1\n",
    "            column_names = list(df1.columns)\n",
    "\n",
    "        # Fit the model\n",
    "        model = sm.OLS(y, df1_with_const, missing = 'drop').fit()\n",
    "\n",
    "        # Extract intercept and coefficients\n",
    "        if constant:\n",
    "            a = model.params[0] * ann  # Annualized intercept\n",
    "            b = model.params[1:]      # Coefficients for other features\n",
    "        else:\n",
    "            a = 0                     # No intercept\n",
    "            b = model.params[:]       # Use all coefficients\n",
    "\n",
    "        # Calculate additional stats\n",
    "        r_2 = model.rsquared\n",
    "        e = model.resid\n",
    "        sig_e = float(np.std(e))\n",
    "\n",
    "        # Prepare a single row of results\n",
    "        row = {\"Y Variable\": y_col, \"R-squared\": r_2, \"Residual Std. Dev.\": sig_e}\n",
    "\n",
    "        if constant:\n",
    "            row[\"Intercept\"] = a\n",
    "            row.update({name: coef for name, coef in zip(column_names[1:], b)})\n",
    "        else:\n",
    "            row.update({name: coef for name, coef in zip(column_names, b)})\n",
    "\n",
    "        # Append the row to the results\n",
    "        results.append(row)\n",
    "\n",
    "    # Convert results to a DataFrame\n",
    "    result_df = pd.DataFrame(results).set_index(\"Y Variable\")\n",
    "    return result_df\n",
    "\n",
    "def regression_analysis(df1, y_df, ann=1, constant=True):\n",
    "    df = regression_stats(df1, y_df, ann=ann, constant=constant)\n",
    "    mean = y_df.mean()\n",
    "    x_var = list(df1.columns)\n",
    "\n",
    "    new_col = []\n",
    "\n",
    "    for i in x_var:\n",
    "        name = f'{i} Treynor Ratio'\n",
    "        df[name] = mean / df[i] * ann\n",
    "\n",
    "    df[\"Information Ratio\"] = df[\"Intercept\"]/df[\"Residual Std. Dev.\"] * np.sqrt(ann)\n",
    "\n",
    "    return df\n",
    "\n",
    "#The input is a list of different regression dataframes\n",
    "def compare_regressions(lst):\n",
    "    df1 = pd.concat(lst)\n",
    "\n",
    "    return df1"
   ]
  },
  {
   "cell_type": "markdown",
   "id": "0f6e4aa6",
   "metadata": {},
   "source": [
    "### Data\n",
    "\n",
    "This problem uses data from,\n",
    "* `/data/yields.xlsx`\n",
    "* `/data/treasury_ts_duration_2024-10-31.xlsx`"
   ]
  },
  {
   "cell_type": "markdown",
   "id": "6127c1e5",
   "metadata": {},
   "source": [
    "#### Load Yields"
   ]
  },
  {
   "cell_type": "code",
   "execution_count": 90,
   "id": "69fbc7c2",
   "metadata": {},
   "outputs": [],
   "source": [
    "filepath = '../data/yields.xlsx'\n",
    "yields = pd.read_excel(filepath, sheet_name='yields')\n",
    "yields.set_index('caldt',inplace=True)"
   ]
  },
  {
   "cell_type": "markdown",
   "id": "de979e9a",
   "metadata": {},
   "source": [
    "#### Load Prices and Durations of Two Treasuries"
   ]
  },
  {
   "cell_type": "code",
   "execution_count": 91,
   "id": "18b846dd",
   "metadata": {},
   "outputs": [
    {
     "data": {
      "text/html": [
       "<div>\n",
       "<style scoped>\n",
       "    .dataframe tbody tr th:only-of-type {\n",
       "        vertical-align: middle;\n",
       "    }\n",
       "\n",
       "    .dataframe tbody tr th {\n",
       "        vertical-align: top;\n",
       "    }\n",
       "\n",
       "    .dataframe thead th {\n",
       "        text-align: right;\n",
       "    }\n",
       "</style>\n",
       "<table border=\"1\" class=\"dataframe\">\n",
       "  <thead>\n",
       "    <tr style=\"text-align: right;\">\n",
       "      <th></th>\n",
       "      <th>type</th>\n",
       "      <th>issue date</th>\n",
       "      <th>maturity date</th>\n",
       "      <th>cpn rate</th>\n",
       "    </tr>\n",
       "    <tr>\n",
       "      <th>KYTREASNO</th>\n",
       "      <th></th>\n",
       "      <th></th>\n",
       "      <th></th>\n",
       "      <th></th>\n",
       "    </tr>\n",
       "  </thead>\n",
       "  <tbody>\n",
       "    <tr>\n",
       "      <th>207391</th>\n",
       "      <td>note</td>\n",
       "      <td>2019-08-15</td>\n",
       "      <td>2029-08-15</td>\n",
       "      <td>1.625</td>\n",
       "    </tr>\n",
       "    <tr>\n",
       "      <th>207392</th>\n",
       "      <td>bond</td>\n",
       "      <td>2019-08-15</td>\n",
       "      <td>2049-08-15</td>\n",
       "      <td>2.250</td>\n",
       "    </tr>\n",
       "  </tbody>\n",
       "</table>\n",
       "</div>"
      ],
      "text/plain": [
       "           type issue date maturity date  cpn rate\n",
       "KYTREASNO                                         \n",
       "207391     note 2019-08-15    2029-08-15     1.625\n",
       "207392     bond 2019-08-15    2049-08-15     2.250"
      ]
     },
     "execution_count": 91,
     "metadata": {},
     "output_type": "execute_result"
    }
   ],
   "source": [
    "QUOTE_DATE = '2024-10-31'\n",
    "filepath = f'../data/treasury_ts_duration_{QUOTE_DATE}.xlsx'\n",
    "\n",
    "data = pd.read_excel(filepath,sheet_name='database')\n",
    "data_info =  data.drop_duplicates(subset='KYTREASNO', keep='first').set_index('KYTREASNO')\n",
    "data_info[['type','issue date','maturity date','cpn rate']]"
   ]
  },
  {
   "cell_type": "markdown",
   "id": "28e8f46c",
   "metadata": {},
   "source": [
    "You will largely focus on the sheets which give the timeseries of prices and durations for each of the two securities, as shown in the following code."
   ]
  },
  {
   "cell_type": "code",
   "execution_count": 92,
   "id": "8724ba0a",
   "metadata": {},
   "outputs": [],
   "source": [
    "SHEET_PRICE = 'price'\n",
    "SHEET_DURATION = 'duration'\n",
    "INDEX_NAME = 'quote date'\n",
    "\n",
    "price = pd.read_excel(filepath,sheet_name=SHEET_PRICE).set_index(INDEX_NAME)\n",
    "duration = pd.read_excel(filepath,sheet_name=SHEET_DURATION).set_index(INDEX_NAME)"
   ]
  },
  {
   "cell_type": "markdown",
   "id": "08fd667b",
   "metadata": {},
   "source": [
    "### 2.1.\n",
    "\n",
    "Construct the following yield-curve factors from the `yields` data set:\n",
    "\n",
    "$\\begin{align}\n",
    "x^{\\text{level}}_t =& \\frac{1}{N_{\\text{yields}}}\\sum_{i=1}^{N_{\\text{yields}}} y^{(i)}_t\\\\\n",
    "x^{\\text{slope}}_t =& y^{(30)}_t - y^{(1)}_t\\\\\n",
    "x^{\\text{curvature}}_t =& -y^{(1)}_t + 2 y^{(10)}_t - y^{(30)}_t\n",
    "\\end{align}$"
   ]
  },
  {
   "cell_type": "code",
   "execution_count": 93,
   "id": "8b23f42d",
   "metadata": {},
   "outputs": [],
   "source": [
    "y_path = '../data/yields.xlsx'\n",
    "yields = pd.read_excel(y_path).set_index('caldt')\n",
    "\n",
    "yields['level'] = yields.mean(axis=1)\n",
    "yields['slope'] = yields[30] - yields[1]\n",
    "yields['curvature'] = 2 * yields[10] - yields[1] - yields[30]\n",
    "\n",
    "yields.index = pd.to_datetime(yields.index)\n"
   ]
  },
  {
   "cell_type": "markdown",
   "id": "42d3a537",
   "metadata": {},
   "source": [
    "### 2.2\n",
    "\n",
    "Get the bond prices and durations for the two bonds in the data set referenced above.\n",
    "\n",
    "#### Align the data\n",
    "\n",
    "Align the bond pricing data with the yield factor data, so that you have data for both in the intersection of their dates.\n",
    "\n",
    "\n",
    "#### Estimate the regression\n",
    "\n",
    "Estimate the regression in the form of day-over-day differences for both bond prices and factors. That is, we are using regression to approximate the factor duration equation,\n",
    "\n",
    "$\\begin{align}\n",
    "\\frac{dP}{P} = \\alpha + \\beta_L dx_{\\text{level}} + \\beta_S dx_{\\text{slope}} + \\beta_C dx_{\\text{curvature}} + \\epsilon\n",
    "\\end{align}$\n",
    "\n",
    "Report the betas for each of these factors, for each of the bond prices."
   ]
  },
  {
   "cell_type": "code",
   "execution_count": 94,
   "id": "96c3966b",
   "metadata": {},
   "outputs": [],
   "source": [
    "issue_date = data_info.iloc[0]['issue date']\n",
    "\n",
    "\n",
    "price = price.rename(columns={207391:'207391 price', 207392:'207392 price'})\n",
    "duration = duration.rename(columns={207391:'207391 duration', 207392:'207392 duration'})\n",
    "\n"
   ]
  },
  {
   "cell_type": "code",
   "execution_count": 95,
   "id": "4e367aac",
   "metadata": {},
   "outputs": [],
   "source": [
    "pd_df = pd.merge(price, duration, left_index=True, right_index=True)\n",
    "\n",
    "comb_df = pd.merge(yields, pd_df, left_index=True, right_index=True)\n",
    "\n"
   ]
  },
  {
   "cell_type": "code",
   "execution_count": 97,
   "id": "fc954b8f",
   "metadata": {},
   "outputs": [
    {
     "name": "stderr",
     "output_type": "stream",
     "text": [
      "C:\\Users\\vince\\AppData\\Local\\Temp\\ipykernel_18948\\4147967451.py:25: FutureWarning: Series.__getitem__ treating keys as positions is deprecated. In a future version, integer keys will always be treated as labels (consistent with DataFrame behavior). To access a value by position, use `ser.iloc[pos]`\n",
      "  a = model.params[0] * ann  # Annualized intercept\n",
      "C:\\Users\\vince\\AppData\\Local\\Temp\\ipykernel_18948\\4147967451.py:25: FutureWarning: Series.__getitem__ treating keys as positions is deprecated. In a future version, integer keys will always be treated as labels (consistent with DataFrame behavior). To access a value by position, use `ser.iloc[pos]`\n",
      "  a = model.params[0] * ann  # Annualized intercept\n"
     ]
    },
    {
     "data": {
      "text/html": [
       "<div>\n",
       "<style scoped>\n",
       "    .dataframe tbody tr th:only-of-type {\n",
       "        vertical-align: middle;\n",
       "    }\n",
       "\n",
       "    .dataframe tbody tr th {\n",
       "        vertical-align: top;\n",
       "    }\n",
       "\n",
       "    .dataframe thead th {\n",
       "        text-align: right;\n",
       "    }\n",
       "</style>\n",
       "<table border=\"1\" class=\"dataframe\">\n",
       "  <thead>\n",
       "    <tr style=\"text-align: right;\">\n",
       "      <th></th>\n",
       "      <th>R-squared</th>\n",
       "      <th>Residual Std. Dev.</th>\n",
       "      <th>Intercept</th>\n",
       "      <th>level</th>\n",
       "      <th>slope</th>\n",
       "      <th>curvature</th>\n",
       "    </tr>\n",
       "    <tr>\n",
       "      <th>Y Variable</th>\n",
       "      <th></th>\n",
       "      <th></th>\n",
       "      <th></th>\n",
       "      <th></th>\n",
       "      <th></th>\n",
       "      <th></th>\n",
       "    </tr>\n",
       "  </thead>\n",
       "  <tbody>\n",
       "    <tr>\n",
       "      <th>207391 price</th>\n",
       "      <td>0.941657</td>\n",
       "      <td>0.001077</td>\n",
       "      <td>0.000064</td>\n",
       "      <td>-0.069938</td>\n",
       "      <td>-0.004759</td>\n",
       "      <td>-0.010926</td>\n",
       "    </tr>\n",
       "    <tr>\n",
       "      <th>207392 price</th>\n",
       "      <td>0.960223</td>\n",
       "      <td>0.002369</td>\n",
       "      <td>0.000069</td>\n",
       "      <td>-0.197983</td>\n",
       "      <td>-0.126491</td>\n",
       "      <td>0.074870</td>\n",
       "    </tr>\n",
       "  </tbody>\n",
       "</table>\n",
       "</div>"
      ],
      "text/plain": [
       "              R-squared  Residual Std. Dev.  Intercept     level     slope  \\\n",
       "Y Variable                                                                   \n",
       "207391 price   0.941657            0.001077   0.000064 -0.069938 -0.004759   \n",
       "207392 price   0.960223            0.002369   0.000069 -0.197983 -0.126491   \n",
       "\n",
       "              curvature  \n",
       "Y Variable               \n",
       "207391 price  -0.010926  \n",
       "207392 price   0.074870  "
      ]
     },
     "execution_count": 97,
     "metadata": {},
     "output_type": "execute_result"
    }
   ],
   "source": [
    "X = comb_df[['level', 'slope', 'curvature']].diff()\n",
    "Y = comb_df[['207391 price', '207392 price']].pct_change()\n",
    "\n",
    "reg = regression_stats(X, Y)\n",
    "\n",
    "reg"
   ]
  },
  {
   "cell_type": "markdown",
   "id": "4776f6e5",
   "metadata": {},
   "source": [
    "### 2.3.\n",
    "\n",
    "Compare the \"level\" factor beta for each of the two treasuries with the average  duration for each bond as reported in the data set.\n",
    "\n",
    "* How closely does the average duration for a bond compare to its \"level\" beta?\n",
    "* What do you conclude about the usefulness of mathematical duration vs regression sensitivities?"
   ]
  },
  {
   "cell_type": "code",
   "execution_count": 98,
   "id": "1e3c07d4",
   "metadata": {},
   "outputs": [
    {
     "name": "stdout",
     "output_type": "stream",
     "text": [
      "6.923664422237872\n",
      "19.903216098452884\n"
     ]
    },
    {
     "data": {
      "text/plain": [
       "Y Variable\n",
       "207391 price   -0.069938\n",
       "207392 price   -0.197983\n",
       "Name: level, dtype: float64"
      ]
     },
     "metadata": {},
     "output_type": "display_data"
    }
   ],
   "source": [
    "print(comb_df['207391 duration'].mean())\n",
    "\n",
    "print(comb_df['207392 duration'].mean())\n",
    "\n",
    "display(reg['level'])\n"
   ]
  },
  {
   "cell_type": "markdown",
   "id": "173b7bd0",
   "metadata": {},
   "source": [
    "# 2.3 Solution\n",
    "\n",
    "The avg duration for the bonds is very similar to the level beta, scaled by face value of 100 and negative. This makes sense because -duration measures the sensitivity to change in yield. The change in level is similar to the change in yield. Thus, it would make sense because we scaled the duration by 100 to get the Modified duration compared to the MC duration. The mathematical duration is very similar to the empirical duration we see."
   ]
  },
  {
   "cell_type": "markdown",
   "id": "2df02787",
   "metadata": {},
   "source": [
    "### 2.4.\n",
    "\n",
    "In the duration-hedged trade of `Homework 2, Section 2`, was the that trade was long or short this slope factor? \n",
    "\n",
    "Do you think the slope factor exposure had a large impact on the trade?\n",
    "\n",
    "No new analysis needed, just draw a conclusion from the estimates above along with the trade construction in `HW 2, Sec 2`."
   ]
  },
  {
   "cell_type": "code",
   "execution_count": null,
   "id": "4fcacd7b",
   "metadata": {},
   "outputs": [],
   "source": []
  },
  {
   "cell_type": "markdown",
   "id": "fcabcd0c",
   "metadata": {},
   "source": [
    "***"
   ]
  },
  {
   "cell_type": "markdown",
   "id": "9168eed2",
   "metadata": {},
   "source": [
    "# 3 Calculating Duration Via Individual Cashflows\n",
    "\n",
    "## *Optional, not submitted*"
   ]
  },
  {
   "cell_type": "markdown",
   "id": "432e95d6",
   "metadata": {},
   "source": [
    "Use the data file `../data/treasury_quotes_2024-10-31.xlsx`.\n",
    "\n",
    "### 3.1 \n",
    "Set up the cashflow matrix. \n",
    "\n",
    "### 3.2\n",
    "Extract the Nelson-Siegel spot discount curve, as you did in `Homework 1`.\n",
    "\n",
    "### 3.3\n",
    "For each treasury issue, calculate the duration as the weighted average of the (discounted!) cashflow maturity.\n",
    "\n",
    "Report the summary statistics of the durations. (Use `.describe()` from pandas.)\n",
    "\n",
    "### 3.4\n",
    "How close are your duration estimates to the imputed durations given in the data source?\n",
    "\n",
    "Report the summary statistics of the imputed durations minus your calculated durations from above.\n",
    "\n",
    "### 3.5\n",
    "Continue using your assumed discount rates of `4.5`\\% to calculate the convexity of each issue.\n",
    "\n",
    "Report the summary statistics of these convexity calculations."
   ]
  },
  {
   "cell_type": "markdown",
   "id": "d28e865d",
   "metadata": {},
   "source": [
    "***"
   ]
  }
 ],
 "metadata": {
  "hide_input": false,
  "kernelspec": {
   "display_name": "base",
   "language": "python",
   "name": "python3"
  },
  "language_info": {
   "codemirror_mode": {
    "name": "ipython",
    "version": 3
   },
   "file_extension": ".py",
   "mimetype": "text/x-python",
   "name": "python",
   "nbconvert_exporter": "python",
   "pygments_lexer": "ipython3",
   "version": "3.12.7"
  }
 },
 "nbformat": 4,
 "nbformat_minor": 5
}
