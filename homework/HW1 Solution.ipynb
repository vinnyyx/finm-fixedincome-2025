{
 "cells": [
  {
   "cell_type": "markdown",
   "id": "e3906490",
   "metadata": {},
   "source": [
    "# Homework 1\n",
    "\n",
    "## FINM 37400 - 2025\n",
    "\n",
    "### UChicago Financial Mathematics\n",
    "\n",
    "* Mark Hendricks\n",
    "* hendricks@uchicago.edu"
   ]
  },
  {
   "cell_type": "markdown",
   "id": "4ceab0cb",
   "metadata": {},
   "source": [
    "***"
   ]
  },
  {
   "cell_type": "markdown",
   "id": "fef5c182",
   "metadata": {},
   "source": [
    "### Data\n",
    "\n",
    "This homework uses the data file, `treasury_quotes_2024-10-31`.\n",
    "\n",
    "The problems below analyze the nominal, (rather than the TIPS,) Treasury issues. Accordingly, you should filter out all rows with `type` `TIPS Note` or `TIPS bond`."
   ]
  },
  {
   "cell_type": "markdown",
   "id": "449b5d7c",
   "metadata": {},
   "source": [
    "***"
   ]
  },
  {
   "cell_type": "markdown",
   "id": "159651ed",
   "metadata": {},
   "source": [
    "# 1. Discount Rates"
   ]
  },
  {
   "cell_type": "markdown",
   "id": "16e5254a",
   "metadata": {},
   "source": [
    "Use the data in the `selected quotes` tab.\n",
    "\n",
    "Note:\n",
    "* The selected treasuries are at nearly six-month intervals. \n",
    "* If you prefer, approximate that they mature at perfect 6-month intervals. "
   ]
  },
  {
   "cell_type": "markdown",
   "id": "e44248dd",
   "metadata": {},
   "source": [
    "### 1.1.\n",
    "\n",
    "Create the cashflow matrix, $\\textbf{C}$, where each rows is a Treasury issue, each column is a date, and each entry is the cash paid on a (normalized) face value of \\$100."
   ]
  },
  {
   "cell_type": "markdown",
   "id": "ccae0b66",
   "metadata": {},
   "source": [
    "### 1.2.\n",
    "\n",
    "Estimate the spot discount factors that rationalize the market prices of the treasuries. Do this via solving the linear system\n",
    "\n",
    "$$\\textbf{p} = {\\textbf{C}}\\, \\textbf{z}$$"
   ]
  },
  {
   "cell_type": "markdown",
   "id": "f02955d5",
   "metadata": {},
   "source": [
    "### 1.3.\n",
    "\n",
    "Plot the time-to-maturity on the horizontal axis. On the vertical axis, plot the...\n",
    "* discount factors\n",
    "\n",
    "Make another plot, this time with the vertical axis displaying the\n",
    "* semiannually compounded discount rates\n",
    "* continuously compounded discount rates"
   ]
  },
  {
   "cell_type": "markdown",
   "id": "5bc6a2cd",
   "metadata": {},
   "source": [
    "### 1.4.\n",
    "\n",
    "Suppose that all discount rates and all coupon rates go up by 0.5\\%. \n",
    "\n",
    "Calculate the new price of each of the treasury securities, using present value pricing."
   ]
  },
  {
   "cell_type": "markdown",
   "id": "fd2fdc93",
   "metadata": {},
   "source": [
    "***"
   ]
  },
  {
   "cell_type": "markdown",
   "id": "b68bef36",
   "metadata": {},
   "source": [
    "# 2. Estimating the Discount Curve with Real Data\n",
    "\n",
    "Use the data in the `quotes` tab."
   ]
  },
  {
   "cell_type": "markdown",
   "id": "cccda275",
   "metadata": {},
   "source": [
    "### 2.1. Map Cashflows\n",
    "\n",
    "Construct the cashflow matrix.\n",
    "\n",
    "Given the unfiltered data set, you will need to make a few modeling choices to do this...\n",
    "* eliminate any treasury that does not report YTM or that reports a negative YTM.\n",
    "* assume notes and bonds pay coupons every six months, going backward from the date of maturity.\n",
    "\n",
    "Make other reasonable modeling assumptions as needed.\n",
    "\n",
    "Report:\n",
    "* head and tail rows of the dataframe, $\\textbf{C}$, for instance, using `display()`.\n",
    "\n",
    "* which date has the most cashflow across all issues?\n",
    "\n",
    "* which date has the most issues paying a cashflow?"
   ]
  },
  {
   "cell_type": "markdown",
   "id": "a0ff7a76",
   "metadata": {},
   "source": [
    "### 2.2. OLS\n",
    "\n",
    "Estimate the discount factors using OLS.\n",
    "\n",
    "Starting with the cashflow matrix, $C$, create an additional filter to get a subset where every date has at least one maturity, (possibly multiple,) and every issue has its maturity in the cashflow matrix. Call this set of cashflows, $\\hat{C}$.\n",
    "\n",
    "**Report 5 head and tail rows of $\\hat{C}$.**\n",
    "\n",
    "$$\\textbf{p} = \\hat{\\textbf{C}}\\,\\textbf{z}_{\\text{ols}}+\\epsilon$$\n",
    "\n",
    "Plot the time-to-maturity vs discount rates, semiannually compounded."
   ]
  },
  {
   "cell_type": "markdown",
   "id": "e0e78a59",
   "metadata": {},
   "source": [
    "### 2.3. EXTRA (not graded)\n",
    "\n",
    "Re-do `2.2.`, but this time use Weighted Least Squares. Find a weighting scheme that puts more weight on more recently issued treasures and less weight on less recently issued treasures. \n",
    "\n",
    "Does your answer change much?\n"
   ]
  },
  {
   "cell_type": "markdown",
   "id": "ac1a365d",
   "metadata": {},
   "source": [
    "### 2.4. Curve-Fitting\n",
    "\n",
    "Continue with the model of cashflows (having filtered out some treasuries).\n",
    "\n",
    "Estimate the discount curve via the Nelson-Siegel model.\n",
    "* Fit via minimizing the sum of squared errors of the modeled prices against the quoted prices.\n",
    "* Consider using `minimize` from `scipy.optimize`.\n",
    "\n",
    "When done,\n",
    "* Report the estimated NS parameters.\n",
    "* Plot the semiannually-compounded discount rates along with those estimated with OLS from above."
   ]
  },
  {
   "cell_type": "markdown",
   "id": "15329dd8",
   "metadata": {},
   "source": [
    "***"
   ]
  },
  {
   "cell_type": "markdown",
   "id": "632119d7",
   "metadata": {},
   "source": [
    "# 3. Yield-Curve Factors\n",
    "\n",
    "### Data\n",
    "This section uses data in `'../data/yields.xlsx`.\n",
    "\n"
   ]
  },
  {
   "cell_type": "markdown",
   "id": "bd4327ea",
   "metadata": {},
   "source": [
    "### 3.1. Yield Curve Movements\n",
    "\n",
    "Use the yield curve time-series data to calculate the time-series of the **level**, **slope**, and **curvature** factors.\n",
    "\n",
    "Calculate the yield-curve factors. For each point in time, calculate the following three factors:\n",
    "\n",
    "$\\begin{align}\n",
    "x^{\\text{level}}_t =& \\frac{1}{N_{\\text{yields}}}\\sum_{i=1}^{N_{\\text{yields}}} y^{(i)}_t\\\\\n",
    "x^{\\text{slope}}_t =& y^{(30)}_t - y^{(1)}_t\\\\\n",
    "x^{\\text{curvature}}_t =& -y^{(1)}_t + 2 y^{(10)}_t - y^{(30)}_t\n",
    "\\end{align}$\n",
    "\n",
    "Report the \n",
    "* correlation matrix of the factors.\n",
    "* *mean and volatility of the factors."
   ]
  },
  {
   "cell_type": "markdown",
   "id": "87ca68a9",
   "metadata": {},
   "source": [
    "### 3.2. PCA\n",
    "\n",
    "Calculate the principal components of the time-series yield data.\n",
    "\n",
    "Report...\n",
    "* the percentage of total variation explained by each factor.\n",
    "* the loadings of the first two PCA factors.\n",
    "\n",
    "#### Note\n",
    "Consider using,\n",
    "`PCA` from `sklearn.decomposition` "
   ]
  },
  {
   "cell_type": "markdown",
   "id": "1b7fbf2e",
   "metadata": {},
   "source": [
    "### 3.3. Comparison\n",
    "\n",
    "Compare the ad-hoc factors from `3.1.` with the PCA-estimated factors in `3.2.`.\n",
    "\n",
    "Estimate the correlation of the ad-hoc level factor with the PCA-1. And the slope factor with PCA-2."
   ]
  }
 ],
 "metadata": {
  "hide_input": false,
  "kernelspec": {
   "display_name": "Python 3 (ipykernel)",
   "language": "python",
   "name": "python3"
  },
  "language_info": {
   "codemirror_mode": {
    "name": "ipython",
    "version": 3
   },
   "file_extension": ".py",
   "mimetype": "text/x-python",
   "name": "python",
   "nbconvert_exporter": "python",
   "pygments_lexer": "ipython3",
   "version": "3.9.6"
  },
  "toc": {
   "base_numbering": 1,
   "nav_menu": {},
   "number_sections": false,
   "sideBar": true,
   "skip_h1_title": false,
   "title_cell": "Table of Contents",
   "title_sidebar": "Contents",
   "toc_cell": false,
   "toc_position": {},
   "toc_section_display": true,
   "toc_window_display": false
  }
 },
 "nbformat": 4,
 "nbformat_minor": 5
}
