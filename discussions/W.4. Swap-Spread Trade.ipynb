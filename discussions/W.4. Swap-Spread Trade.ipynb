{
 "cells": [
  {
   "cell_type": "markdown",
   "id": "daa28c41",
   "metadata": {},
   "source": [
    "# Swap-Spread Trade\n",
    "\n",
    "## FINM 37400 - 2025\n",
    "\n",
    "### UChicago Financial Mathematics\n",
    "\n",
    "* Mark Hendricks\n",
    "* hendricks@uchicago.edu"
   ]
  },
  {
   "cell_type": "markdown",
   "id": "a6706ef9",
   "metadata": {},
   "source": [
    "***"
   ]
  },
  {
   "cell_type": "markdown",
   "id": "20d04ae8",
   "metadata": {},
   "source": [
    "## Setup\n",
    "\n",
    "The date is `Nov 4, 2008`.\n",
    "\n",
    "**Treasury bond**\n",
    "* Suppose the Treasury bond matures exactly `30` years later, on Nov 4, 2038.\n",
    "* The YTM of this freshly issued treasury is `4.193\\%` with a semiannual coupon of `4.50\\%`.\n",
    "\n",
    "**Swap**\n",
    "* The fixed leg of the swap pays semiannually, with swap rate of `4.2560\\%`.\n",
    "* The floating leg of the swap also pays semiannually--not quarterly--such that the payment dates are identical on both legs. Thus, it also resets the floating rate semiannually, not quarterly.\n",
    "* The floating rate of the swap equals the repo rate used in the trade. Thus, these two rates cancel in the financing of the trade."
   ]
  },
  {
   "cell_type": "markdown",
   "id": "88f4ddfa",
   "metadata": {},
   "source": [
    "***"
   ]
  },
  {
   "cell_type": "code",
   "execution_count": 2,
   "id": "2873cad2",
   "metadata": {
    "jupyter": {
     "source_hidden": true
    }
   },
   "outputs": [],
   "source": [
    "import pandas as pd\n",
    "import numpy as np\n",
    "import datetime\n",
    "import warnings\n",
    "\n",
    "from sklearn.linear_model import LinearRegression\n",
    "from scipy.optimize import minimize\n",
    "from scipy.optimize import fsolve\n",
    "\n",
    "import matplotlib.pyplot as plt\n",
    "%matplotlib inline\n",
    "plt.rcParams['figure.figsize'] = (12,6)\n",
    "plt.rcParams['font.size'] = 15\n",
    "plt.rcParams['legend.fontsize'] = 13\n",
    "\n",
    "import sys\n",
    "sys.path.insert(0, '../cmds')\n",
    "from treasury_cmds import *"
   ]
  },
  {
   "cell_type": "code",
   "execution_count": 3,
   "id": "f4351973",
   "metadata": {
    "jupyter": {
     "source_hidden": true
    }
   },
   "outputs": [],
   "source": [
    "def price_treasury_ytm(time_to_maturity, ytm, cpn_rate,freq=2,face=100):\n",
    "    c = cpn_rate/freq\n",
    "    y = ytm/freq\n",
    "    \n",
    "    rem = freq * (time_to_maturity % (1/freq))\n",
    "    tau = freq * time_to_maturity - rem\n",
    "    \n",
    "    if round(tau)!=tau:\n",
    "        print('warning')\n",
    "    else:\n",
    "        tau = round(tau)    \n",
    "    \n",
    "    pv = 0\n",
    "    for i in range(1,tau):\n",
    "        pv += 1 / (1+y)**i\n",
    "    \n",
    "    pv = c*pv + (1+c)/(1+y)**tau\n",
    "    pv *= face\n",
    "    \n",
    "    if rem>0:\n",
    "        pv += c*face\n",
    "        pv /= (1+y)**rem\n",
    "        \n",
    "    return pv"
   ]
  },
  {
   "cell_type": "code",
   "execution_count": 4,
   "id": "78aec2d6",
   "metadata": {
    "jupyter": {
     "source_hidden": true
    }
   },
   "outputs": [],
   "source": [
    "def duration_closed_formula(tau, ytm, cpnrate=None, freq=2):\n",
    "\n",
    "    if cpnrate is None:\n",
    "        cpnrate = ytm\n",
    "        \n",
    "    y = ytm/freq\n",
    "    c = cpnrate/freq\n",
    "    T = tau * freq\n",
    "        \n",
    "    if cpnrate==ytm:\n",
    "        duration = (1+y)/y  * (1 - 1/(1+y)**T)\n",
    "        \n",
    "    else:\n",
    "        duration = (1+y)/y - (1+y+T*(c-y)) / (c*((1+y)**T-1)+y)\n",
    "\n",
    "    duration /= freq\n",
    "    \n",
    "    return duration"
   ]
  },
  {
   "cell_type": "markdown",
   "id": "4b820c34",
   "metadata": {},
   "source": [
    "### Case Parameters"
   ]
  },
  {
   "cell_type": "code",
   "execution_count": 5,
   "id": "38162a3d",
   "metadata": {
    "jupyter": {
     "source_hidden": true
    }
   },
   "outputs": [],
   "source": [
    "YTM = [0.04193, .0436]\n",
    "CPNRATE = [0.0450, np.nan]    \n",
    "SWAPRATE = [.042560, .0408]\n",
    "\n",
    "TPRICE = 105\n",
    "PAR = 100\n",
    "\n",
    "NOTIONAL = 500e6\n",
    "HAIRCUT = .02\n",
    "\n",
    "DELTATIME = .5\n",
    "tau0 = 30\n",
    "tau1 = tau0-DELTATIME\n",
    "\n",
    "SWAP_FACE = 100\n",
    "# dummy variable to compare to floating, fixed"
   ]
  },
  {
   "cell_type": "markdown",
   "id": "d215d536",
   "metadata": {},
   "source": [
    "### Adjustments\n",
    "\n",
    "Adjust the case parameters."
   ]
  },
  {
   "cell_type": "code",
   "execution_count": 6,
   "id": "ec4520b8",
   "metadata": {
    "jupyter": {
     "source_hidden": true
    }
   },
   "outputs": [],
   "source": [
    "USE_CPN = True\n",
    "USE_YTM = False\n",
    "USE_PRICE = False\n",
    "\n",
    "if not USE_CPN:\n",
    "    CPNRATE[0] = YTM[0]\n",
    "\n",
    "if USE_YTM and USE_PRICE:\n",
    "    warning('Case YTM and Price are inconsistent; recalculating price')\n",
    "    USE_PRICE = False\n",
    "\n",
    "if not USE_YTM and not USE_PRICE:\n",
    "    YTM[0] = CPNRATE[0]\n",
    "    TPRICE = PAR\n",
    "\n",
    "if USE_YTM and not USE_PRICE:\n",
    "    TPRICE = price_treasury_ytm(tau0,YTM[0],CPNRATE[0])\n",
    "\n",
    "if USE_PRICE and not USE_YTM:\n",
    "    pv_wrapper = lambda y: TPRICE - price_treasury_ytm(tau0,y,CPNRATE[0])    \n",
    "    YTM[0] = fsolve(pv_wrapper,.04)[0]"
   ]
  },
  {
   "cell_type": "markdown",
   "id": "d8ec9460",
   "metadata": {},
   "source": [
    "#### Specify Trade Size\n",
    "\n",
    "Pinning down notional swap position, Tbond face value, or Tbond market value?"
   ]
  },
  {
   "cell_type": "code",
   "execution_count": 7,
   "id": "a65d649e",
   "metadata": {},
   "outputs": [],
   "source": [
    "SET_SIZE = 'swap'"
   ]
  },
  {
   "cell_type": "markdown",
   "id": "764b6a89",
   "metadata": {},
   "source": [
    "### Market environment"
   ]
  },
  {
   "cell_type": "code",
   "execution_count": 8,
   "id": "5d6e2996",
   "metadata": {
    "jupyter": {
     "source_hidden": true
    }
   },
   "outputs": [
    {
     "data": {
      "text/html": [
       "<style type=\"text/css\">\n",
       "</style>\n",
       "<table id=\"T_aed56\">\n",
       "  <thead>\n",
       "    <tr>\n",
       "      <th class=\"blank level0\" >&nbsp;</th>\n",
       "      <th id=\"T_aed56_level0_col0\" class=\"col_heading level0 col0\" >coupon rate</th>\n",
       "      <th id=\"T_aed56_level0_col1\" class=\"col_heading level0 col1\" >price</th>\n",
       "      <th id=\"T_aed56_level0_col2\" class=\"col_heading level0 col2\" >YTM</th>\n",
       "      <th id=\"T_aed56_level0_col3\" class=\"col_heading level0 col3\" >swap rate</th>\n",
       "      <th id=\"T_aed56_level0_col4\" class=\"col_heading level0 col4\" >spread</th>\n",
       "    </tr>\n",
       "  </thead>\n",
       "  <tbody>\n",
       "    <tr>\n",
       "      <th id=\"T_aed56_level0_row0\" class=\"row_heading level0 row0\" >Nov 2008</th>\n",
       "      <td id=\"T_aed56_row0_col0\" class=\"data row0 col0\" >4.50%</td>\n",
       "      <td id=\"T_aed56_row0_col1\" class=\"data row0 col1\" >100.00</td>\n",
       "      <td id=\"T_aed56_row0_col2\" class=\"data row0 col2\" >4.50%</td>\n",
       "      <td id=\"T_aed56_row0_col3\" class=\"data row0 col3\" >4.26%</td>\n",
       "      <td id=\"T_aed56_row0_col4\" class=\"data row0 col4\" >-0.24%</td>\n",
       "    </tr>\n",
       "  </tbody>\n",
       "</table>\n"
      ],
      "text/plain": [
       "<pandas.io.formats.style.Styler at 0x1f6a44933e0>"
      ]
     },
     "execution_count": 8,
     "metadata": {},
     "output_type": "execute_result"
    }
   ],
   "source": [
    "TPRICE_1 = price_treasury_ytm(tau1,YTM[1],CPNRATE[0])\n",
    "\n",
    "summary = pd.DataFrame(index=['coupon rate','price','YTM','swap rate'],columns = ['Nov 2008','May 2009'],dtype=float)\n",
    "summary.loc['coupon rate'] = CPNRATE\n",
    "summary.loc['price'] = [TPRICE, TPRICE_1]\n",
    "summary.loc['YTM'] = YTM\n",
    "summary.loc['swap rate'] = SWAPRATE\n",
    "summary.loc['spread'] = summary.loc['swap rate'] - summary.loc['YTM']\n",
    "#summary.loc['coupon spread'] = summary.loc['swap rate'] - summary.loc['coupon rate']\n",
    "\n",
    "summary.T.iloc[[0],:].style.format({'price':'{:.2f}', 'coupon rate':'{:.2%}', 'YTM':'{:.2%}', 'swap rate':'{:.2%}', 'spread':'{:.2%}'})"
   ]
  },
  {
   "cell_type": "markdown",
   "id": "cbb2a9f5",
   "metadata": {},
   "source": [
    "# Cashflows"
   ]
  },
  {
   "cell_type": "code",
   "execution_count": 9,
   "id": "cdbaa7a4",
   "metadata": {
    "jupyter": {
     "source_hidden": true
    }
   },
   "outputs": [],
   "source": [
    "SOFR = np.nan"
   ]
  },
  {
   "cell_type": "code",
   "execution_count": 10,
   "id": "f3176856",
   "metadata": {
    "jupyter": {
     "source_hidden": true
    }
   },
   "outputs": [
    {
     "data": {
      "text/html": [
       "<style type=\"text/css\">\n",
       "</style>\n",
       "<table id=\"T_dcacd\">\n",
       "  <thead>\n",
       "    <tr>\n",
       "      <th class=\"blank level0\" >&nbsp;</th>\n",
       "      <th id=\"T_dcacd_level0_col0\" class=\"col_heading level0 col0\" >May 2009</th>\n",
       "    </tr>\n",
       "  </thead>\n",
       "  <tbody>\n",
       "    <tr>\n",
       "      <th id=\"T_dcacd_level0_row0\" class=\"row_heading level0 row0\" >T bond</th>\n",
       "      <td id=\"T_dcacd_row0_col0\" class=\"data row0 col0\" >$2.25</td>\n",
       "    </tr>\n",
       "    <tr>\n",
       "      <th id=\"T_dcacd_level0_row1\" class=\"row_heading level0 row1\" >Repo</th>\n",
       "      <td id=\"T_dcacd_row1_col0\" class=\"data row1 col0\" >$nan</td>\n",
       "    </tr>\n",
       "    <tr>\n",
       "      <th id=\"T_dcacd_level0_row2\" class=\"row_heading level0 row2\" >Swap (floating leg)</th>\n",
       "      <td id=\"T_dcacd_row2_col0\" class=\"data row2 col0\" >$nan</td>\n",
       "    </tr>\n",
       "    <tr>\n",
       "      <th id=\"T_dcacd_level0_row3\" class=\"row_heading level0 row3\" >Swap (fixed leg)</th>\n",
       "      <td id=\"T_dcacd_row3_col0\" class=\"data row3 col0\" >$-2.13</td>\n",
       "    </tr>\n",
       "    <tr>\n",
       "      <th id=\"T_dcacd_level0_row4\" class=\"row_heading level0 row4\" >Net Payment</th>\n",
       "      <td id=\"T_dcacd_row4_col0\" class=\"data row4 col0\" >$0.12</td>\n",
       "    </tr>\n",
       "  </tbody>\n",
       "</table>\n"
      ],
      "text/plain": [
       "<pandas.io.formats.style.Styler at 0x1f6a48db590>"
      ]
     },
     "execution_count": 10,
     "metadata": {},
     "output_type": "execute_result"
    }
   ],
   "source": [
    "CF = pd.DataFrame(index=['T bond','Repo','Swap (floating leg)','Swap (fixed leg)'],columns=['May 2009'],dtype=float)\n",
    "CF.loc['Repo'] -SOFR\n",
    "CF.loc['Swap (floating leg)'] = SOFR\n",
    "CF.loc[['T bond']] = PAR * CPNRATE[0] /2\n",
    "CF.loc[['Swap (fixed leg)']] = -PAR * SWAPRATE[0]/2\n",
    "CF.loc['Net Payment'] = CF.sum(axis=0)\n",
    "CF.style.format('${:,.2f}')"
   ]
  },
  {
   "cell_type": "markdown",
   "id": "b14310eb-a35f-4fd4-9777-84fe149a3972",
   "metadata": {},
   "source": [
    "#### SOFR rate cancels\n",
    "\n",
    "No need to account for the repo rate or the swap's floating payment, as they both are modeled in this problem with SOFR, and thus net to zero."
   ]
  },
  {
   "cell_type": "markdown",
   "id": "856f44a9",
   "metadata": {},
   "source": [
    "# Duration"
   ]
  },
  {
   "cell_type": "code",
   "execution_count": 11,
   "id": "3e6f8b9f",
   "metadata": {
    "jupyter": {
     "source_hidden": true
    }
   },
   "outputs": [
    {
     "data": {
      "text/html": [
       "<div>\n",
       "<style scoped>\n",
       "    .dataframe tbody tr th:only-of-type {\n",
       "        vertical-align: middle;\n",
       "    }\n",
       "\n",
       "    .dataframe tbody tr th {\n",
       "        vertical-align: top;\n",
       "    }\n",
       "\n",
       "    .dataframe thead th {\n",
       "        text-align: right;\n",
       "    }\n",
       "</style>\n",
       "<table border=\"1\" class=\"dataframe\">\n",
       "  <thead>\n",
       "    <tr style=\"text-align: right;\">\n",
       "      <th></th>\n",
       "      <th>duration</th>\n",
       "      <th>dollar duration</th>\n",
       "    </tr>\n",
       "  </thead>\n",
       "  <tbody>\n",
       "    <tr>\n",
       "      <th>T bond</th>\n",
       "      <td>16.742902</td>\n",
       "      <td>1674.290214</td>\n",
       "    </tr>\n",
       "    <tr>\n",
       "      <th>fixed leg</th>\n",
       "      <td>17.212744</td>\n",
       "      <td>1721.274445</td>\n",
       "    </tr>\n",
       "    <tr>\n",
       "      <th>floating leg</th>\n",
       "      <td>0.500000</td>\n",
       "      <td>50.000000</td>\n",
       "    </tr>\n",
       "    <tr>\n",
       "      <th>repo</th>\n",
       "      <td>0.500000</td>\n",
       "      <td>49.000000</td>\n",
       "    </tr>\n",
       "  </tbody>\n",
       "</table>\n",
       "</div>"
      ],
      "text/plain": [
       "               duration  dollar duration\n",
       "T bond        16.742902      1674.290214\n",
       "fixed leg     17.212744      1721.274445\n",
       "floating leg   0.500000        50.000000\n",
       "repo           0.500000        49.000000"
      ]
     },
     "metadata": {},
     "output_type": "display_data"
    },
    {
     "data": {
      "text/html": [
       "<div>\n",
       "<style scoped>\n",
       "    .dataframe tbody tr th:only-of-type {\n",
       "        vertical-align: middle;\n",
       "    }\n",
       "\n",
       "    .dataframe tbody tr th {\n",
       "        vertical-align: top;\n",
       "    }\n",
       "\n",
       "    .dataframe thead th {\n",
       "        text-align: right;\n",
       "    }\n",
       "</style>\n",
       "<table border=\"1\" class=\"dataframe\">\n",
       "  <thead>\n",
       "    <tr style=\"text-align: right;\">\n",
       "      <th></th>\n",
       "      <th>duration</th>\n",
       "      <th>dollar duration</th>\n",
       "    </tr>\n",
       "  </thead>\n",
       "  <tbody>\n",
       "    <tr>\n",
       "      <th>T bond repo</th>\n",
       "      <td>16.242902</td>\n",
       "      <td>1625.290214</td>\n",
       "    </tr>\n",
       "    <tr>\n",
       "      <th>swap</th>\n",
       "      <td>16.712744</td>\n",
       "      <td>1671.274445</td>\n",
       "    </tr>\n",
       "    <tr>\n",
       "      <th>net</th>\n",
       "      <td>-0.469842</td>\n",
       "      <td>-45.984231</td>\n",
       "    </tr>\n",
       "  </tbody>\n",
       "</table>\n",
       "</div>"
      ],
      "text/plain": [
       "              duration  dollar duration\n",
       "T bond repo  16.242902      1625.290214\n",
       "swap         16.712744      1671.274445\n",
       "net          -0.469842       -45.984231"
      ]
     },
     "metadata": {},
     "output_type": "display_data"
    }
   ],
   "source": [
    "tab_duration = pd.DataFrame(dtype=float, index=['T bond','fixed leg', 'floating leg'], columns=['duration'])\n",
    "tab_duration.loc['T bond'] = duration_closed_formula(tau0, summary.loc['YTM','Nov 2008'], summary.loc['coupon rate','Nov 2008'])\n",
    "tab_duration.loc['fixed leg'] = duration_closed_formula(tau0, summary.loc['swap rate','Nov 2008'])\n",
    "tab_duration.loc['floating leg'] = .5\n",
    "tab_duration.loc['repo'] = .5\n",
    "\n",
    "tab_duration['dollar duration'] = tab_duration['duration'] * np.array([TPRICE, PAR, PAR, TPRICE * (1-HAIRCUT)])\n",
    "\n",
    "tab_net = pd.DataFrame(dtype=float, index=['T bond repo','swap'], columns=['duration','dollar duration'])\n",
    "tab_net.loc['T bond repo'] = tab_duration.loc['T bond'] - tab_duration.loc['repo']\n",
    "tab_net.loc['swap'] = tab_duration.loc['fixed leg'] - tab_duration.loc['floating leg']\n",
    "tab_net.loc['net'] = tab_net.loc['T bond repo'] - tab_net.loc['swap']\n",
    "\n",
    "display(tab_duration)\n",
    "\n",
    "display(tab_net)"
   ]
  },
  {
   "cell_type": "markdown",
   "id": "f82de4e7",
   "metadata": {},
   "source": [
    "Match dollar duration by ensuring that the ratio of contracts equals the ratio of dollar duration:\n",
    "\n",
    "$$0 = n_iD_{\\$,i} + n_jD_{\\$,j}$$\n",
    "\n",
    "$$n_j = -n_i\\frac{D_{\\$,i}}{D_{\\$,j}}$$"
   ]
  },
  {
   "cell_type": "code",
   "execution_count": 12,
   "id": "5caa6f02",
   "metadata": {
    "jupyter": {
     "source_hidden": true
    }
   },
   "outputs": [
    {
     "data": {
      "text/html": [
       "<div>\n",
       "<style scoped>\n",
       "    .dataframe tbody tr th:only-of-type {\n",
       "        vertical-align: middle;\n",
       "    }\n",
       "\n",
       "    .dataframe tbody tr th {\n",
       "        vertical-align: top;\n",
       "    }\n",
       "\n",
       "    .dataframe thead th {\n",
       "        text-align: right;\n",
       "    }\n",
       "</style>\n",
       "<table border=\"1\" class=\"dataframe\">\n",
       "  <thead>\n",
       "    <tr style=\"text-align: right;\">\n",
       "      <th></th>\n",
       "      <th>positions</th>\n",
       "    </tr>\n",
       "  </thead>\n",
       "  <tbody>\n",
       "    <tr>\n",
       "      <th>T bond repo</th>\n",
       "      <td>5.141465e+06</td>\n",
       "    </tr>\n",
       "    <tr>\n",
       "      <th>swap</th>\n",
       "      <td>-5.000000e+06</td>\n",
       "    </tr>\n",
       "  </tbody>\n",
       "</table>\n",
       "</div>"
      ],
      "text/plain": [
       "                positions\n",
       "T bond repo  5.141465e+06\n",
       "swap        -5.000000e+06"
      ]
     },
     "execution_count": 12,
     "metadata": {},
     "output_type": "execute_result"
    }
   ],
   "source": [
    "hedge_ratio = -tab_net.loc['swap','dollar duration'] / tab_net.loc['T bond repo','dollar duration']\n",
    "\n",
    "if SET_SIZE == 'Tbond face':\n",
    "    notional_tbond = NOTIONAL * TPRICE / PAR    \n",
    "elif SET_SIZE == 'Tbond value':\n",
    "    notional_tbond = NOTIONAL\n",
    "elif SET_SIZE == 'swap':\n",
    "    notional_tbond = -NOTIONAL * hedge_ratio\n",
    "else:\n",
    "    warning('Sizing is not specified; fixing swap notional')\n",
    "    notional_tbond = -NOTIONAL * hedge_ratio\n",
    "\n",
    "notional_swaps = notional_tbond * (1/hedge_ratio)\n",
    "n_tbonds = notional_tbond / TPRICE\n",
    "n_swaps = notional_swaps / SWAP_FACE\n",
    "\n",
    "contracts = pd.DataFrame(np.array([n_tbonds, n_swaps]), index=['T bond repo','swap'], columns=['positions'])\n",
    "contracts"
   ]
  },
  {
   "cell_type": "markdown",
   "id": "a837429a-a838-49ab-9129-5e7b4c19e417",
   "metadata": {},
   "source": [
    "# May 2009"
   ]
  },
  {
   "cell_type": "code",
   "execution_count": 13,
   "id": "149a4b5a-db42-44b5-b4c9-69c566031009",
   "metadata": {
    "jupyter": {
     "source_hidden": true
    }
   },
   "outputs": [
    {
     "data": {
      "text/html": [
       "<style type=\"text/css\">\n",
       "</style>\n",
       "<table id=\"T_fb3c7\">\n",
       "  <thead>\n",
       "    <tr>\n",
       "      <th class=\"blank level0\" >&nbsp;</th>\n",
       "      <th id=\"T_fb3c7_level0_col0\" class=\"col_heading level0 col0\" >coupon rate</th>\n",
       "      <th id=\"T_fb3c7_level0_col1\" class=\"col_heading level0 col1\" >price</th>\n",
       "      <th id=\"T_fb3c7_level0_col2\" class=\"col_heading level0 col2\" >YTM</th>\n",
       "      <th id=\"T_fb3c7_level0_col3\" class=\"col_heading level0 col3\" >swap rate</th>\n",
       "      <th id=\"T_fb3c7_level0_col4\" class=\"col_heading level0 col4\" >spread</th>\n",
       "    </tr>\n",
       "  </thead>\n",
       "  <tbody>\n",
       "    <tr>\n",
       "      <th id=\"T_fb3c7_level0_row0\" class=\"row_heading level0 row0\" >Nov 2008</th>\n",
       "      <td id=\"T_fb3c7_row0_col0\" class=\"data row0 col0\" >4.50%</td>\n",
       "      <td id=\"T_fb3c7_row0_col1\" class=\"data row0 col1\" >100.00</td>\n",
       "      <td id=\"T_fb3c7_row0_col2\" class=\"data row0 col2\" >4.50%</td>\n",
       "      <td id=\"T_fb3c7_row0_col3\" class=\"data row0 col3\" >4.26%</td>\n",
       "      <td id=\"T_fb3c7_row0_col4\" class=\"data row0 col4\" >-0.24%</td>\n",
       "    </tr>\n",
       "    <tr>\n",
       "      <th id=\"T_fb3c7_level0_row1\" class=\"row_heading level0 row1\" >May 2009</th>\n",
       "      <td id=\"T_fb3c7_row1_col0\" class=\"data row1 col0\" >nan%</td>\n",
       "      <td id=\"T_fb3c7_row1_col1\" class=\"data row1 col1\" >102.31</td>\n",
       "      <td id=\"T_fb3c7_row1_col2\" class=\"data row1 col2\" >4.36%</td>\n",
       "      <td id=\"T_fb3c7_row1_col3\" class=\"data row1 col3\" >4.08%</td>\n",
       "      <td id=\"T_fb3c7_row1_col4\" class=\"data row1 col4\" >-0.28%</td>\n",
       "    </tr>\n",
       "  </tbody>\n",
       "</table>\n"
      ],
      "text/plain": [
       "<pandas.io.formats.style.Styler at 0x1f6a48fcc20>"
      ]
     },
     "execution_count": 13,
     "metadata": {},
     "output_type": "execute_result"
    }
   ],
   "source": [
    "summary.T.style.format({'price':'{:.2f}', 'coupon rate':'{:.2%}', 'YTM':'{:.2%}', 'swap rate':'{:.2%}', 'spread':'{:.2%}'})"
   ]
  },
  {
   "cell_type": "code",
   "execution_count": 15,
   "id": "7983c288",
   "metadata": {
    "jupyter": {
     "source_hidden": true
    }
   },
   "outputs": [
    {
     "data": {
      "text/html": [
       "<style type=\"text/css\">\n",
       "</style>\n",
       "<table id=\"T_ea9cd\">\n",
       "  <thead>\n",
       "    <tr>\n",
       "      <th class=\"blank level0\" >&nbsp;</th>\n",
       "      <th id=\"T_ea9cd_level0_col0\" class=\"col_heading level0 col0\" >T bond</th>\n",
       "      <th id=\"T_ea9cd_level0_col1\" class=\"col_heading level0 col1\" >swap</th>\n",
       "    </tr>\n",
       "  </thead>\n",
       "  <tbody>\n",
       "    <tr>\n",
       "      <th id=\"T_ea9cd_level0_row0\" class=\"row_heading level0 row0\" >Nov 2008</th>\n",
       "      <td id=\"T_ea9cd_row0_col0\" class=\"data row0 col0\" >$100.00</td>\n",
       "      <td id=\"T_ea9cd_row0_col1\" class=\"data row0 col1\" >$0.00</td>\n",
       "    </tr>\n",
       "    <tr>\n",
       "      <th id=\"T_ea9cd_level0_row1\" class=\"row_heading level0 row1\" >May 2009</th>\n",
       "      <td id=\"T_ea9cd_row1_col0\" class=\"data row1 col0\" >$102.31</td>\n",
       "      <td id=\"T_ea9cd_row1_col1\" class=\"data row1 col1\" >$3.00</td>\n",
       "    </tr>\n",
       "  </tbody>\n",
       "</table>\n"
      ],
      "text/plain": [
       "<pandas.io.formats.style.Styler at 0x1f69d97cf80>"
      ]
     },
     "execution_count": 15,
     "metadata": {},
     "output_type": "execute_result"
    }
   ],
   "source": [
    "prices = pd.DataFrame(index=['T bond', 'swap'],dtype=float,columns=['Nov 2008'])\n",
    "\n",
    "prices.loc['T bond','Nov 2008'] = TPRICE\n",
    "prices.loc['swap','Nov 2008'] = 0\n",
    "\n",
    "prices.loc['T bond','May 2009'] = TPRICE_1\n",
    "prices.loc['swap','May 2009'] = price_treasury_ytm(tau1, summary.loc['swap rate','May 2009'], summary.loc['swap rate','Nov 2008']) - PAR\n",
    "\n",
    "prices.T.style.format('${:,.2f}')"
   ]
  },
  {
   "cell_type": "markdown",
   "id": "347db7b9",
   "metadata": {},
   "source": [
    "The rising YTM on the T bond suggests...\n",
    "* lower (adjusted) price for the T-bond.\n",
    "* we are long the T-bond, so this would be a loss.\n",
    "\n",
    "The lower swap rate suggests...\n",
    "* higher value on the fixed leg of a swap.\n",
    "* we are paying fixed, (ie short the fixed leg), so this would again be a loss.\n",
    "\n",
    "The floating leg of the swap and repo rate cancel."
   ]
  },
  {
   "cell_type": "code",
   "execution_count": 16,
   "id": "04fc10aa",
   "metadata": {
    "jupyter": {
     "source_hidden": true
    }
   },
   "outputs": [
    {
     "data": {
      "text/html": [
       "<style type=\"text/css\">\n",
       "</style>\n",
       "<table id=\"T_2174b\">\n",
       "  <thead>\n",
       "    <tr>\n",
       "      <th class=\"blank level0\" >&nbsp;</th>\n",
       "      <th id=\"T_2174b_level0_col0\" class=\"col_heading level0 col0\" >cashflow</th>\n",
       "      <th id=\"T_2174b_level0_col1\" class=\"col_heading level0 col1\" >capital gains</th>\n",
       "      <th id=\"T_2174b_level0_col2\" class=\"col_heading level0 col2\" >total</th>\n",
       "    </tr>\n",
       "  </thead>\n",
       "  <tbody>\n",
       "    <tr>\n",
       "      <th id=\"T_2174b_level0_row0\" class=\"row_heading level0 row0\" >T bond</th>\n",
       "      <td id=\"T_2174b_row0_col0\" class=\"data row0 col0\" >$11,568,295.52</td>\n",
       "      <td id=\"T_2174b_row0_col1\" class=\"data row0 col1\" >$11,883,984.99</td>\n",
       "      <td id=\"T_2174b_row0_col2\" class=\"data row0 col2\" >$23,452,280.51</td>\n",
       "    </tr>\n",
       "    <tr>\n",
       "      <th id=\"T_2174b_level0_row1\" class=\"row_heading level0 row1\" >swap</th>\n",
       "      <td id=\"T_2174b_row1_col0\" class=\"data row1 col0\" >$-10,640,000.00</td>\n",
       "      <td id=\"T_2174b_row1_col1\" class=\"data row1 col1\" >$-15,016,747.03</td>\n",
       "      <td id=\"T_2174b_row1_col2\" class=\"data row1 col2\" >$-25,656,747.03</td>\n",
       "    </tr>\n",
       "    <tr>\n",
       "      <th id=\"T_2174b_level0_row2\" class=\"row_heading level0 row2\" >net</th>\n",
       "      <td id=\"T_2174b_row2_col0\" class=\"data row2 col0\" >$928,295.52</td>\n",
       "      <td id=\"T_2174b_row2_col1\" class=\"data row2 col1\" >$-3,132,762.04</td>\n",
       "      <td id=\"T_2174b_row2_col2\" class=\"data row2 col2\" >$-2,204,466.52</td>\n",
       "    </tr>\n",
       "  </tbody>\n",
       "</table>\n"
      ],
      "text/plain": [
       "<pandas.io.formats.style.Styler at 0x1f6a475ba70>"
      ]
     },
     "execution_count": 16,
     "metadata": {},
     "output_type": "execute_result"
    }
   ],
   "source": [
    "pnl=pd.DataFrame(dtype=float,index=['T bond','swap'],columns=['cashflow'])\n",
    "\n",
    "pnl['cashflow'] = CF.loc[['T bond','Swap (fixed leg)']].values * contracts.abs().values\n",
    "pnl['capital gains'] = prices.diff(axis=1)['May 2009'].values * contracts.values[:,0]\n",
    "\n",
    "pnl.loc['net'] = pnl.sum()\n",
    "\n",
    "pnl['total'] = pnl.sum(axis=1)\n",
    "\n",
    "pnl.style.format('${:,.2f}',na_rep='')"
   ]
  },
  {
   "cell_type": "code",
   "execution_count": 18,
   "id": "c883d8d7",
   "metadata": {
    "jupyter": {
     "source_hidden": true
    }
   },
   "outputs": [
    {
     "name": "stdout",
     "output_type": "stream",
     "text": [
      "T bond    5.141465e+08\n",
      "swap     -0.000000e+00\n",
      "Name: assets, dtype: float64\n"
     ]
    },
    {
     "data": {
      "text/html": [
       "<style type=\"text/css\">\n",
       "</style>\n",
       "<table id=\"T_c456c\">\n",
       "  <thead>\n",
       "    <tr>\n",
       "      <th class=\"blank level0\" >&nbsp;</th>\n",
       "      <th id=\"T_c456c_level0_col0\" class=\"col_heading level0 col0\" >assets</th>\n",
       "      <th id=\"T_c456c_level0_col1\" class=\"col_heading level0 col1\" >equity</th>\n",
       "      <th id=\"T_c456c_level0_col2\" class=\"col_heading level0 col2\" >pnl</th>\n",
       "      <th id=\"T_c456c_level0_col3\" class=\"col_heading level0 col3\" >return</th>\n",
       "    </tr>\n",
       "  </thead>\n",
       "  <tbody>\n",
       "    <tr>\n",
       "      <th id=\"T_c456c_level0_row0\" class=\"row_heading level0 row0\" >T bond</th>\n",
       "      <td id=\"T_c456c_row0_col0\" class=\"data row0 col0\" >$514,146,467.68</td>\n",
       "      <td id=\"T_c456c_row0_col1\" class=\"data row0 col1\" >$10,282,929.35</td>\n",
       "      <td id=\"T_c456c_row0_col2\" class=\"data row0 col2\" >$23,452,280.51</td>\n",
       "      <td id=\"T_c456c_row0_col3\" class=\"data row0 col3\" ></td>\n",
       "    </tr>\n",
       "    <tr>\n",
       "      <th id=\"T_c456c_level0_row1\" class=\"row_heading level0 row1\" >swap</th>\n",
       "      <td id=\"T_c456c_row1_col0\" class=\"data row1 col0\" >$-0.00</td>\n",
       "      <td id=\"T_c456c_row1_col1\" class=\"data row1 col1\" >$-0.00</td>\n",
       "      <td id=\"T_c456c_row1_col2\" class=\"data row1 col2\" >$-25,656,747.03</td>\n",
       "      <td id=\"T_c456c_row1_col3\" class=\"data row1 col3\" ></td>\n",
       "    </tr>\n",
       "    <tr>\n",
       "      <th id=\"T_c456c_level0_row2\" class=\"row_heading level0 row2\" >net</th>\n",
       "      <td id=\"T_c456c_row2_col0\" class=\"data row2 col0\" >$514,146,467.68</td>\n",
       "      <td id=\"T_c456c_row2_col1\" class=\"data row2 col1\" >$10,282,929.35</td>\n",
       "      <td id=\"T_c456c_row2_col2\" class=\"data row2 col2\" >$-2,204,466.52</td>\n",
       "      <td id=\"T_c456c_row2_col3\" class=\"data row2 col3\" >-21.44%</td>\n",
       "    </tr>\n",
       "  </tbody>\n",
       "</table>\n"
      ],
      "text/plain": [
       "<pandas.io.formats.style.Styler at 0x1f69d2c0a10>"
      ]
     },
     "execution_count": 18,
     "metadata": {},
     "output_type": "execute_result"
    }
   ],
   "source": [
    "capital = pd.DataFrame(prices.iloc[:,0].values * contracts.values[:,0], index=['T bond','swap'],columns=['assets'])\n",
    "capital['equity'] = capital['assets'] * HAIRCUT\n",
    "capital.loc['net'] = capital.sum()\n",
    "\n",
    "capital['pnl'] = pnl['total']\n",
    "capital['return'] = capital['pnl']/capital['equity']\n",
    "capital.loc[['T bond','swap'],'return'] = np.nan\n",
    "\n",
    "capital.style.format({'assets':'${:,.2f}','equity':'${:,.2f}','pnl':'${:,.2f}','return':'{:.2%}'},na_rep='')"
   ]
  },
  {
   "cell_type": "markdown",
   "id": "a287af5b",
   "metadata": {},
   "source": [
    "***"
   ]
  },
  {
   "cell_type": "markdown",
   "id": "abc9f1b9",
   "metadata": {},
   "source": [
    "# Swap Spread Since The Great Financial Crisis"
   ]
  },
  {
   "cell_type": "code",
   "execution_count": 16,
   "id": "a5d88f1f",
   "metadata": {
    "jupyter": {
     "source_hidden": true
    }
   },
   "outputs": [],
   "source": [
    "filepath = '../data/sofr_swaps.xlsx'\n",
    "swaps_raw = pd.read_excel(filepath,sheet_name='data').set_index('Unnamed: 0')\n",
    "swaps_raw.columns = swaps_raw.columns.astype(float)\n",
    "swaps_raw.index.name = 'date'\n",
    "\n",
    "swaps_sofr = swaps_raw.copy()"
   ]
  },
  {
   "cell_type": "code",
   "execution_count": 17,
   "id": "c2c03ac6",
   "metadata": {
    "jupyter": {
     "source_hidden": true
    }
   },
   "outputs": [],
   "source": [
    "filepath = '../data/libor_swaps.xlsx'\n",
    "swaps_raw = pd.read_excel(filepath,sheet_name='data').set_index('Unnamed: 0')\n",
    "swaps_raw.columns = swaps_raw.columns.astype(float)\n",
    "swaps_raw.index.name = 'date'\n",
    "\n",
    "swaps_libor = swaps_raw.copy()"
   ]
  },
  {
   "cell_type": "code",
   "execution_count": 18,
   "id": "71b891d8",
   "metadata": {
    "jupyter": {
     "source_hidden": true
    }
   },
   "outputs": [],
   "source": [
    "filepath = '../data/yields.xlsx'\n",
    "yields = pd.read_excel(filepath, sheet_name='yields')\n",
    "yields.set_index('caldt',inplace=True)"
   ]
  },
  {
   "cell_type": "code",
   "execution_count": 19,
   "id": "e6d0885c",
   "metadata": {
    "jupyter": {
     "source_hidden": true
    }
   },
   "outputs": [
    {
     "data": {
      "image/png": "[encoded data removed]",
      "text/plain": [
       "<Figure size 1200x600 with 1 Axes>"
      ]
     },
     "metadata": {},
     "output_type": "display_data"
    }
   ],
   "source": [
    "idx = 20\n",
    "tab = pd.concat([yields[idx],swaps_sofr[idx],swaps_libor[idx]],axis=1)\n",
    "tab.columns = [f'yield ({idx})',f'swap sofr ({idx})',f'swap libor ({idx})']\n",
    "tab.plot(xlim=('2000','2025'),ylim=(0,7));"
   ]
  },
  {
   "cell_type": "markdown",
   "id": "b91139b1",
   "metadata": {},
   "source": [
    "Take the mean of the libor and sofr swaps for dates where both exist."
   ]
  },
  {
   "cell_type": "code",
   "execution_count": 20,
   "id": "028b33a0",
   "metadata": {
    "jupyter": {
     "source_hidden": true
    }
   },
   "outputs": [
    {
     "data": {
      "image/png": "[encoded data removed]",
      "text/plain": [
       "<Figure size 1200x600 with 1 Axes>"
      ]
     },
     "metadata": {},
     "output_type": "display_data"
    }
   ],
   "source": [
    "tab['swap spread'] = tab.iloc[:,[1,2]].mean(axis=1)-tab.iloc[:,0]\n",
    "(tab['swap spread']*100).plot(title='Swap Spread',ylabel='bps')\n",
    "plt.axhline(y=0, color='r', linestyle='--')\n",
    "plt.show()"
   ]
  },
  {
   "cell_type": "markdown",
   "id": "ab1c5e1b",
   "metadata": {},
   "source": [
    "***"
   ]
  },
  {
   "cell_type": "markdown",
   "id": "c86b0e24",
   "metadata": {},
   "source": [
    "## Pricing in Nov 2023"
   ]
  },
  {
   "cell_type": "code",
   "execution_count": 21,
   "id": "1ebefeb7",
   "metadata": {},
   "outputs": [],
   "source": [
    "ytm2023 = yields.loc['2023-11-03',[10,20]].mean()/100\n",
    "prices.loc['T bond','Nov 2023'] = price_treasury_ytm(15,ytm2023,CPNRATE[0])\n",
    "\n",
    "swaprate2023 = swaps_sofr.loc['2023-11-03',15]/100\n",
    "prices.loc['swap','Nov 2023'] = price_treasury_ytm(15,swaprate2023,SWAPRATE[0]) - PAR"
   ]
  },
  {
   "cell_type": "code",
   "execution_count": 22,
   "id": "99292b51",
   "metadata": {},
   "outputs": [
    {
     "data": {
      "text/html": [
       "<style type=\"text/css\">\n",
       "</style>\n",
       "<table id=\"T_46e9c\">\n",
       "  <thead>\n",
       "    <tr>\n",
       "      <th class=\"blank level0\" >&nbsp;</th>\n",
       "      <th id=\"T_46e9c_level0_col0\" class=\"col_heading level0 col0\" >coupon rate</th>\n",
       "      <th id=\"T_46e9c_level0_col1\" class=\"col_heading level0 col1\" >price</th>\n",
       "      <th id=\"T_46e9c_level0_col2\" class=\"col_heading level0 col2\" >YTM</th>\n",
       "      <th id=\"T_46e9c_level0_col3\" class=\"col_heading level0 col3\" >swap rate</th>\n",
       "      <th id=\"T_46e9c_level0_col4\" class=\"col_heading level0 col4\" >spread</th>\n",
       "    </tr>\n",
       "  </thead>\n",
       "  <tbody>\n",
       "    <tr>\n",
       "      <th id=\"T_46e9c_level0_row0\" class=\"row_heading level0 row0\" >Nov 2008</th>\n",
       "      <td id=\"T_46e9c_row0_col0\" class=\"data row0 col0\" >4.50%</td>\n",
       "      <td id=\"T_46e9c_row0_col1\" class=\"data row0 col1\" >100.00</td>\n",
       "      <td id=\"T_46e9c_row0_col2\" class=\"data row0 col2\" >4.50%</td>\n",
       "      <td id=\"T_46e9c_row0_col3\" class=\"data row0 col3\" >4.26%</td>\n",
       "      <td id=\"T_46e9c_row0_col4\" class=\"data row0 col4\" >-0.24%</td>\n",
       "    </tr>\n",
       "    <tr>\n",
       "      <th id=\"T_46e9c_level0_row1\" class=\"row_heading level0 row1\" >May 2009</th>\n",
       "      <td id=\"T_46e9c_row1_col0\" class=\"data row1 col0\" >nan%</td>\n",
       "      <td id=\"T_46e9c_row1_col1\" class=\"data row1 col1\" >102.31</td>\n",
       "      <td id=\"T_46e9c_row1_col2\" class=\"data row1 col2\" >4.36%</td>\n",
       "      <td id=\"T_46e9c_row1_col3\" class=\"data row1 col3\" >4.08%</td>\n",
       "      <td id=\"T_46e9c_row1_col4\" class=\"data row1 col4\" >-0.28%</td>\n",
       "    </tr>\n",
       "    <tr>\n",
       "      <th id=\"T_46e9c_level0_row2\" class=\"row_heading level0 row2\" >Nov 2023</th>\n",
       "      <td id=\"T_46e9c_row2_col0\" class=\"data row2 col0\" >nan%</td>\n",
       "      <td id=\"T_46e9c_row2_col1\" class=\"data row2 col1\" >97.76</td>\n",
       "      <td id=\"T_46e9c_row2_col2\" class=\"data row2 col2\" >4.71%</td>\n",
       "      <td id=\"T_46e9c_row2_col3\" class=\"data row2 col3\" >4.27%</td>\n",
       "      <td id=\"T_46e9c_row2_col4\" class=\"data row2 col4\" >-0.44%</td>\n",
       "    </tr>\n",
       "  </tbody>\n",
       "</table>\n"
      ],
      "text/plain": [
       "<pandas.io.formats.style.Styler at 0x30dab4040>"
      ]
     },
     "execution_count": 22,
     "metadata": {},
     "output_type": "execute_result"
    }
   ],
   "source": [
    "summary['Nov 2023'] = [np.nan, prices.loc['T bond','Nov 2023'], ytm2023, swaprate2023, np.nan]\n",
    "summary.loc['spread','Nov 2023'] = summary.loc['swap rate','Nov 2023'] - summary.loc['YTM','Nov 2023']\n",
    "summary.T.style.format({'price':'{:.2f}', 'coupon rate':'{:.2%}', 'YTM':'{:.2%}', 'swap rate':'{:.2%}', 'spread':'{:.2%}'})\n",
    "#summary.T.style.format({'coupon rate':'{:.2%}','YTM':'{:.2%}','swap rate':'{:.2%}','spread':'{:.2%}','price':'{:.2f}'})"
   ]
  },
  {
   "cell_type": "code",
   "execution_count": 23,
   "id": "23f80a1b",
   "metadata": {},
   "outputs": [
    {
     "data": {
      "text/html": [
       "<style type=\"text/css\">\n",
       "</style>\n",
       "<table id=\"T_e8f4d\">\n",
       "  <caption>Perfromance from Nov 2008 to Nov 2023</caption>\n",
       "  <thead>\n",
       "    <tr>\n",
       "      <th class=\"blank level0\" >&nbsp;</th>\n",
       "      <th id=\"T_e8f4d_level0_col0\" class=\"col_heading level0 col0\" >cashflow</th>\n",
       "      <th id=\"T_e8f4d_level0_col1\" class=\"col_heading level0 col1\" >capital gains</th>\n",
       "      <th id=\"T_e8f4d_level0_col2\" class=\"col_heading level0 col2\" >total</th>\n",
       "    </tr>\n",
       "  </thead>\n",
       "  <tbody>\n",
       "    <tr>\n",
       "      <th id=\"T_e8f4d_level0_row0\" class=\"row_heading level0 row0\" >T bond</th>\n",
       "      <td id=\"T_e8f4d_row0_col0\" class=\"data row0 col0\" >$347,048,866</td>\n",
       "      <td id=\"T_e8f4d_row0_col1\" class=\"data row0 col1\" >$-11,496,054</td>\n",
       "      <td id=\"T_e8f4d_row0_col2\" class=\"data row0 col2\" >$335,552,812</td>\n",
       "    </tr>\n",
       "    <tr>\n",
       "      <th id=\"T_e8f4d_level0_row1\" class=\"row_heading level0 row1\" >swap</th>\n",
       "      <td id=\"T_e8f4d_row1_col0\" class=\"data row1 col0\" >$-319,200,000</td>\n",
       "      <td id=\"T_e8f4d_row1_col1\" class=\"data row1 col1\" >$934,224</td>\n",
       "      <td id=\"T_e8f4d_row1_col2\" class=\"data row1 col2\" >$-318,265,776</td>\n",
       "    </tr>\n",
       "    <tr>\n",
       "      <th id=\"T_e8f4d_level0_row2\" class=\"row_heading level0 row2\" >net</th>\n",
       "      <td id=\"T_e8f4d_row2_col0\" class=\"data row2 col0\" >$27,848,866</td>\n",
       "      <td id=\"T_e8f4d_row2_col1\" class=\"data row2 col1\" >$-10,561,830</td>\n",
       "      <td id=\"T_e8f4d_row2_col2\" class=\"data row2 col2\" >$17,287,036</td>\n",
       "    </tr>\n",
       "  </tbody>\n",
       "</table>\n"
      ],
      "text/plain": [
       "<pandas.io.formats.style.Styler at 0x30ec41f10>"
      ]
     },
     "execution_count": 23,
     "metadata": {},
     "output_type": "execute_result"
    }
   ],
   "source": [
    "pnl_2023 = pd.DataFrame(index=pnl.index,columns=pnl.columns,dtype=float)\n",
    "pnl_2023['cashflow'] = pnl.loc[['T bond','swap'],'cashflow'] * 15 * 2\n",
    "pxchange = prices['Nov 2023'] - prices['Nov 2008']\n",
    "pnl_2023.loc[['T bond','swap'],'capital gains'] = pxchange.values * contracts.squeeze().values\n",
    "pnl_2023['total'] = pnl_2023.sum(axis=1)\n",
    "pnl_2023.loc['net'] = pnl_2023.sum(axis=0)\n",
    "pnl_2023.style.format('${:,.0f}').set_caption('Perfromance from Nov 2008 to Nov 2023')"
   ]
  }
 ],
 "metadata": {
  "hide_input": false,
  "kernelspec": {
   "display_name": "base",
   "language": "python",
   "name": "python3"
  },
  "language_info": {
   "codemirror_mode": {
    "name": "ipython",
    "version": 3
   },
   "file_extension": ".py",
   "mimetype": "text/x-python",
   "name": "python",
   "nbconvert_exporter": "python",
   "pygments_lexer": "ipython3",
   "version": "3.12.7"
  }
 },
 "nbformat": 4,
 "nbformat_minor": 5
}
